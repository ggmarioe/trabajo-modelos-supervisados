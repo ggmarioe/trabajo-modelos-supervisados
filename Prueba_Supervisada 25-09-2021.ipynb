{
  "nbformat": 4,
  "nbformat_minor": 2,
  "metadata": {
    "kernelspec": {
      "name": "python3",
      "display_name": "Python 3.7.4 64-bit ('base': conda)"
    },
    "language_info": {
      "codemirror_mode": {
        "name": "ipython",
        "version": 3
      },
      "file_extension": ".py",
      "mimetype": "text/x-python",
      "name": "python",
      "nbconvert_exporter": "python",
      "pygments_lexer": "ipython3",
      "version": "3.7.4"
    },
    "interpreter": {
      "hash": "9deccd5935b16705b63e023b6ccda975e42a314cdef154174482df844a5eee5c"
    },
    "colab": {
      "name": "Prueba Supervisada.ipynb",
      "provenance": [],
      "toc_visible": true
    }
  },
  "cells": [
    {
      "cell_type": "markdown",
      "source": [
        "## Prueba de  Modelos supervisados\n",
        "![image.png](attachment:95702e4f-3c23-4c14-b887-82214f262d60.png)\n",
        "\n",
        "#### Pontificia Universidad Católica de Chile\n",
        "Diplomado en Data Science\n",
        "\n",
        "Septiembre 2021\n",
        "\n",
        "\n",
        "### Nombre:\n",
        "Pablo Opazo \n",
        "Mario Guajardo"
      ],
      "metadata": {
        "id": "ClqsNGtXc9os"
      }
    },
    {
      "cell_type": "markdown",
      "source": [
        "\n",
        "Utilizaremos un set de datos de las policias de New York del año 2009 y 2010. (`2009_1perc.csv` y `2010_1perc.csv`) los cuales nos darán información de los procedimientos policiales realizados. Además se le entregará el diccionario de variables para que pueda consultar que significa cada categoría dentro de las variables.\n",
        "\n",
        "- La variable respuesta 'arstmade' informa si los procedimientos policiales han terminado en arresto o no, y el objetivo será realizar un modelo de Machine Learning para predecir si un futuro procedimiento terminará en arresto."
      ],
      "metadata": {
        "id": "XNCXVGjcc9ox"
      }
    },
    {
      "cell_type": "markdown",
      "source": [
        "# 1.- Enliste todas las librerias que utilizará (0.5 puntos)\n",
        "Nota: Se recomienda ir actualizando la lista conforme las necesidades vaya teniendo durante el desarrollo de la prueba"
      ],
      "metadata": {
        "id": "9laA2Om7c9oy"
      }
    },
    {
      "cell_type": "code",
      "execution_count": 156,
      "source": [
        "import datetime\n",
        "import pandas as pd \n",
        "import numpy as np \n",
        "import missingno as msno\n",
        "import matplotlib.pyplot as plt\n",
        "from statsmodels.graphics.mosaicplot import mosaic\n",
        "import seaborn as sns\n",
        "\n",
        "# transformacion de datos\n",
        "from sklearn.preprocessing import OneHotEncoder\n",
        "from sklearn.preprocessing import StandardScaler # estandarizar\n",
        "from sklearn.preprocessing import LabelEncoder #cambia categorias a numeros\n",
        "\n",
        "\n",
        "# librerias de modelacion y metricas\n",
        "from sklearn.model_selection import GridSearchCV #haremos grillas de hiperparametros con validacion cruzada\n",
        "from sklearn.model_selection import train_test_split #dividar la base en entranemiento/test\n",
        "from sklearn.metrics import classification_report, confusion_matrix,ConfusionMatrixDisplay #reportes\n",
        "\n",
        "\n",
        "# librerias de los modelos \n",
        "from sklearn.svm import SVC #Super Vector Machine \n",
        "from sklearn.discriminant_analysis import LinearDiscriminantAnalysis # LDA\n",
        "from sklearn.discriminant_analysis import QuadraticDiscriminantAnalysis # QDA\n",
        "from sklearn.naive_bayes import MultinomialNB #Naive Bayes\n",
        "\n",
        "from sklearn.tree import DecisionTreeClassifier, plot_tree\n",
        "from sklearn import tree\n",
        "\n",
        "\n",
        "\n",
        "import warnings\n",
        "warnings.filterwarnings('ignore')"
      ],
      "outputs": [],
      "metadata": {
        "id": "NHtbIBVAc9oz"
      }
    },
    {
      "cell_type": "markdown",
      "source": [
        "# 2.- Importación y revisión de los datos (1 punto)\n",
        "\n",
        "Importe ambos sets. Dado que la fuente de datos proviene de la misma base, tienen las mismas columnas. Consolide ambos sets y reporte una exploración *básica* de los datos (numero de filas/columnas, tipos de datos, estadísticas básicas, casos perdidos)"
      ],
      "metadata": {
        "id": "KLu7_qTMc9o0"
      }
    },
    {
      "cell_type": "code",
      "execution_count": null,
      "source": [
        "df1 = pd.read_csv(\"2009_1perc.csv\") \n",
        "df2 = pd.read_csv(\"2010_1perc.csv\") \n",
        "df_consolidado = df1.append(df2)\n",
        "df_consolidado.info()"
      ],
      "outputs": [],
      "metadata": {
        "colab": {
          "base_uri": "https://localhost:8080/"
        },
        "id": "t17jwRCIc9o0",
        "outputId": "520ffd26-0e65-4b39-ed70-79d85d0e7501"
      }
    },
    {
      "cell_type": "code",
      "execution_count": null,
      "source": [
        "df_consolidado.head(12000) #Formato de DataFrame consolidando los datos del 2009 y 2010"
      ],
      "outputs": [],
      "metadata": {
        "colab": {
          "base_uri": "https://localhost:8080/",
          "height": 602
        },
        "id": "aYnMgbncfHVo",
        "outputId": "2c473c8c-8240-4c25-9f80-b78bb730e9c3"
      }
    },
    {
      "cell_type": "code",
      "execution_count": null,
      "source": [
        "df_consolidado.shape # Se tienen 11.825 filas y 112 columnas"
      ],
      "outputs": [],
      "metadata": {
        "colab": {
          "base_uri": "https://localhost:8080/"
        },
        "id": "tejwjqfnc9o1",
        "outputId": "9a5e7411-5dbe-47a5-ebcb-e088c57bd92d"
      }
    },
    {
      "cell_type": "code",
      "execution_count": null,
      "source": [
        "df_consolidado.dtypes \n",
        "#Se tiene que a excepción de las Variables \"Unnamed:\", \"year\", \"pct\",\"ser_num\",\"datestop\" las cuales son numericas(int64), \n",
        "#el resto de Variables son de tipo Categorica(object). Al revisar se necesitan cambiar el tipo de dato de algunas variables \n",
        "#lo cual se realizará mas adelante."
      ],
      "outputs": [],
      "metadata": {
        "colab": {
          "base_uri": "https://localhost:8080/"
        },
        "id": "jPp8_hgOfu0O",
        "outputId": "f7849963-bc7c-4d46-ef60-6097d53ccffd"
      }
    },
    {
      "cell_type": "code",
      "execution_count": null,
      "source": [
        "df_consolidado.describe #Descriptivos Faltan"
      ],
      "outputs": [],
      "metadata": {
        "colab": {
          "base_uri": "https://localhost:8080/"
        },
        "id": "7j3ELa2hc9o2",
        "outputId": "31322dc0-d267-472c-b4ef-655514977bda"
      }
    },
    {
      "cell_type": "code",
      "execution_count": null,
      "source": [
        "df_consolidado.isna().sum().sum() # Al paracer de todo el DataFrame, se tienen solo 2 valores NA"
      ],
      "outputs": [],
      "metadata": {
        "colab": {
          "base_uri": "https://localhost:8080/"
        },
        "id": "c7jHmVVnjdlD",
        "outputId": "002207e8-d006-4421-9af6-81910b6bb721"
      }
    },
    {
      "cell_type": "code",
      "execution_count": null,
      "source": [
        "msno.matrix(df_consolidado); # El gráfico también nos ayuda a identificar que casi no existen valores perdidos"
      ],
      "outputs": [],
      "metadata": {
        "colab": {
          "base_uri": "https://localhost:8080/",
          "height": 390
        },
        "id": "whRepGFJc9o3",
        "outputId": "0f6761bf-945c-41b9-e894-6240adaf2d48"
      }
    },
    {
      "cell_type": "markdown",
      "source": [
        "# 3.- Preprocesamiento de datos (1 punto)\n",
        "Habrá notado que los datos parecen tener ciertas inconsistencias. Siga los siguientes pasos para limpiar este set:\n",
        "\n",
        "- 3.1 Obtenga una lista con todas las variables categoricas que tengan entre 2 y 99 categorías (inclusive). (hint: son las variables tipo categoricas"
      ],
      "metadata": {
        "id": "vN5eI7kXc9o4"
      }
    },
    {
      "cell_type": "code",
      "execution_count": null,
      "source": [
        "df_categorical = pd.DataFrame()\n",
        "\n",
        "for column in df_consolidado.select_dtypes(include='object'):\n",
        "    if df_consolidado[column].nunique() >=2 and df_consolidado[column].nunique() <= 99:\n",
        "        df_categorical[column] = df_consolidado[column].astype('category')\n",
        "\n",
        "df_categorical.shape # Se logra encontrar 74 variables categoricas que cumplen con la condición solicitada."
      ],
      "outputs": [],
      "metadata": {
        "colab": {
          "base_uri": "https://localhost:8080/"
        },
        "id": "ea79qfhcc9o5",
        "outputId": "a2efd558-8ac2-4a9e-f05d-760dd3a43ed1"
      }
    },
    {
      "cell_type": "markdown",
      "source": [
        "- 3.2 Reemplaze las siguientes clases faltantes:\n",
        "\n",
        "  -Si alguna categoría de las columnas officrid,  o offverb es igual a \"\" cambielo a 'N' y en caso contrario dejelo como 'Y'\n",
        "  \n",
        "  -Si alguna categoría de las columnas sector, trhsloc o beat es igual a \"\" (o NA, dependiendo de como haya catgado la base de datos), cambielo a 'U' y en caso contrario mantenga su valor\n",
        "  \n",
        "Nota, los valores significan {N: No, Y: Yes, U: Unknown}"
      ],
      "metadata": {
        "id": "TBlJWDqoc9o5"
      }
    },
    {
      "cell_type": "code",
      "execution_count": null,
      "source": [
        "df_categorical['officrid'] = df_categorical['officrid'].str.replace(' ','N', regex = True)\n",
        "# df_categorical['offshld'] = df_categorical['offshld'].str.replace(' ','N', regex = True)\n",
        "df_categorical['offverb'] = df_categorical['offverb'].str.replace(' ','N', regex = True)\n",
        "\n",
        "df_categorical['sector'] = df_categorical['sector'].str.replace(' ','U', regex = True)\n",
        "df_categorical['trhsloc'] = df_categorical['trhsloc'].str.replace(' ','U', regex = True)\n",
        "df_categorical['beat'] = df_categorical['beat'].str.replace(' ','U', regex = True)\n"
      ],
      "outputs": [],
      "metadata": {
        "id": "ZdvcKhn8c9o6"
      }
    },
    {
      "cell_type": "markdown",
      "source": [
        "- 3.3 Transforme las columnas ht_feet junto con ht_inch en una única columna (de la forma \"ht_feet.ht_inch\") llamado 'meters' (hint: transforme con el siguiente cálculo: metros = (pies+pulgadas)*0.3048)"
      ],
      "metadata": {
        "id": "07lMI6_4c9o6"
      }
    },
    {
      "cell_type": "code",
      "execution_count": null,
      "source": [
        "def transform_metrics(feet, inch):\n",
        "    return (feet *  0.3048 + inch *0.0254)\n",
        "\n",
        "df_consolidado['meters'] = df_consolidado.apply(lambda x : transform_metrics(x['ht_feet'], x['ht_inch']), axis=1)\n",
        "df_consolidado['meters'] "
      ],
      "outputs": [],
      "metadata": {
        "colab": {
          "base_uri": "https://localhost:8080/"
        },
        "id": "vbTlpKnyc9o6",
        "outputId": "3abb149b-ad7d-4a3a-a8ef-73e88d3b99d3"
      }
    },
    {
      "cell_type": "markdown",
      "source": [
        "- 3.4 Note que la fecha viene en un formato MMDDAAAA en la columna datestop. Genere 2 nuevas columnas llamadas month y year que solo tenga el mes y el año respectivamente.\n",
        "\n"
      ],
      "metadata": {
        "id": "cFsmCwt1c9o7"
      }
    },
    {
      "cell_type": "code",
      "execution_count": null,
      "source": [
        "df_consolidado['fecha'] = pd.to_datetime(df_consolidado['datestop'], format= '%m%d%Y')\n",
        "df_consolidado['month'] = pd.DatetimeIndex(df_consolidado['fecha']).month\n",
        "df_consolidado['month'].head()"
      ],
      "outputs": [],
      "metadata": {
        "colab": {
          "base_uri": "https://localhost:8080/"
        },
        "id": "u7wKPB4sc9o7",
        "outputId": "670ef785-a415-4007-9e43-a3cf2909ae87"
      }
    },
    {
      "cell_type": "markdown",
      "source": [
        "> Respuesta: Se crea la columna 'month' para almacenar el mes, sin embargo se omite la creación de la variable año que ya existe con el nombre 'Year'"
      ],
      "metadata": {
        "id": "p_K6AInWc9o8"
      }
    },
    {
      "cell_type": "markdown",
      "source": [
        " - 3.5 Filtre su DataFrame y solo deje las columnas seleccionadas en el punto 3.1, el mes, el año, los metros y la edad. Luego solo deje los registros cuyas edades esten entre 18 y 100 años, ambos inclusive."
      ],
      "metadata": {
        "id": "03eFIS-2c9o8"
      }
    },
    {
      "cell_type": "code",
      "execution_count": null,
      "source": [
        "df_final = df_categorical\n",
        "df_final['month'] = df_consolidado['month']\n",
        "df_final['year'] = df_consolidado['year']\n",
        "df_final['meters'] = df_consolidado['meters']\n",
        "df_final['age'] = df_consolidado['age']\n",
        "\n",
        "df_final = df_final[(df_final['age']>=18) & (df_final['age']<= 100)]\n",
        "\n",
        "print(f\"Respuesta: El valor mínimo queda en {df_final['age'].min()}, el valor máximo queda en {df_final['age'].max()}. Con un total de {df_final.shape[0]} registros\")"
      ],
      "outputs": [],
      "metadata": {
        "colab": {
          "base_uri": "https://localhost:8080/"
        },
        "id": "TTKFVNzVc9o8",
        "outputId": "5456f5d5-dbc5-42a1-e214-9767bf4c0a19"
      }
    },
    {
      "cell_type": "code",
      "execution_count": null,
      "source": [
        "df_final.head(10000) #Ejemplo DataFrame Obtenido"
      ],
      "outputs": [],
      "metadata": {
        "colab": {
          "base_uri": "https://localhost:8080/",
          "height": 435
        },
        "id": "u7wqXGDpu-hQ",
        "outputId": "8031a540-ae2e-496a-f9d8-89e316e5357d"
      }
    },
    {
      "cell_type": "code",
      "execution_count": null,
      "source": [
        "df_final.shape # Aplicando el Filtro de edad y de variables, se tienen 10.078 Registros y 78 Variables"
      ],
      "outputs": [],
      "metadata": {
        "colab": {
          "base_uri": "https://localhost:8080/"
        },
        "id": "C7cKqMJIoOr9",
        "outputId": "8bfc72a1-ef76-4648-cc82-368eaeb470cd"
      }
    },
    {
      "cell_type": "code",
      "execution_count": null,
      "source": [
        "df_final.isna().sum().sum() # Con los filtros aplicados Ahora no se tiene datos faltantes"
      ],
      "outputs": [],
      "metadata": {
        "colab": {
          "base_uri": "https://localhost:8080/"
        },
        "id": "C-JnpS11vZkK",
        "outputId": "42f4033e-4726-4c2f-d70e-58fe18a35d11"
      }
    },
    {
      "cell_type": "code",
      "execution_count": null,
      "source": [
        "df_final.info() #Tipo de datos y según se puede observar no existen datos Faltantes"
      ],
      "outputs": [],
      "metadata": {
        "colab": {
          "base_uri": "https://localhost:8080/"
        },
        "id": "mTGUoAFLouGQ",
        "outputId": "380de883-8f69-4ced-f8a8-d5d4a970a6f0"
      }
    },
    {
      "cell_type": "markdown",
      "source": [
        "# 4.- Análisis exploratorio (1 punto)\n",
        "\n",
        "- 4.1 Estudie la variable respuesta por si sola (arstmade), puede ayudarse de un gráfico. Comente"
      ],
      "metadata": {
        "id": "0kPAyPELc9o8"
      }
    },
    {
      "cell_type": "code",
      "execution_count": null,
      "source": [
        "df_final['arstmade'].value_counts().plot(kind = 'bar')\n",
        "plt.title(\"Resultados Procedimientos Policiales\")\n",
        "plt.xlabel(\"Variable arstmade\")\n",
        "plt.ylabel(\"Cantidad Procedimientos Policiales\");\n",
        "\n",
        "\n",
        "df_final['arstmade'].value_counts()"
      ],
      "outputs": [],
      "metadata": {
        "colab": {
          "base_uri": "https://localhost:8080/",
          "height": 343
        },
        "id": "TeYCnOjCc9o9",
        "outputId": "b962192c-2e29-4758-fc02-881418f7c054"
      }
    },
    {
      "cell_type": "code",
      "execution_count": null,
      "source": [
        "df_final['arstmade'].value_counts().plot(kind='pie', autopct=\"%.1f%%\", colors = ['#a3acff','#f9bc86'], labels=[\"No Arrestados\", \" Arrestados\"] ,title='Proporción entre los Si (Y) y No (N) Arrestados');"
      ],
      "outputs": [],
      "metadata": {
        "colab": {
          "base_uri": "https://localhost:8080/",
          "height": 264
        },
        "id": "9ePiNNSI7BZL",
        "outputId": "4e74e781-9a99-45ba-fdc0-81b13371e0af"
      }
    },
    {
      "cell_type": "markdown",
      "source": [
        "RESPUESTA: Podemos ver que la variable está *desbalanceada* hacia el evento negativo por lo que podemos deducir que en la mayor cantidad de los procedimientos policiales terminaron sin arresto. "
      ],
      "metadata": {
        "id": "4gyUi7egc9o9"
      }
    },
    {
      "cell_type": "markdown",
      "source": [
        "- 4.2.- Estudie la relación de la variable respuesta en comportamiento con la raza (race), comente."
      ],
      "metadata": {
        "id": "zZFp0PPlc9o9"
      }
    },
    {
      "cell_type": "code",
      "execution_count": null,
      "source": [
        "df_arstmade_race = pd.DataFrame()\n",
        "df_arstmade_race = df_final[['arstmade','race']].copy()\n",
        "pd.crosstab(df_arstmade_race['arstmade'], df_arstmade_race['race'])\n"
      ],
      "outputs": [],
      "metadata": {
        "colab": {
          "base_uri": "https://localhost:8080/",
          "height": 142
        },
        "id": "m5AaTwoMc9o9",
        "outputId": "c0b9148a-d771-4dc3-a7aa-8782413cac43"
      }
    },
    {
      "cell_type": "code",
      "execution_count": null,
      "source": [
        "pd.crosstab(df_arstmade_race['arstmade'], df_arstmade_race['race']).plot.bar(figsize=(10,8))\n",
        "plt.title(\"Variable Target VS Raza\")\n",
        "plt.xlabel(\"Variable arstmade (Target)\")\n",
        "plt.ylabel(\"Cantidad Procedimientos Policiales\");"
      ],
      "outputs": [],
      "metadata": {
        "colab": {
          "base_uri": "https://localhost:8080/",
          "height": 510
        },
        "id": "ydUZ1zrg_joi",
        "outputId": "696c620e-0252-4bed-b49d-498e8362c83f"
      }
    },
    {
      "cell_type": "code",
      "execution_count": null,
      "source": [
        "plt.rcParams['figure.figsize'] = (20,8)\n",
        "props = lambda key: {'color': 'pink' if 'Y' in key else '#b5ffb9'}\n",
        "mosaic(df_final, ['arstmade','race'],gap=0.01,horizontal=False,ax=None,properties=props);"
      ],
      "outputs": [],
      "metadata": {
        "colab": {
          "base_uri": "https://localhost:8080/",
          "height": 511
        },
        "id": "QoVBcmtJbpM3",
        "outputId": "a6e75725-099f-470a-e46f-bd7bafadfa1a"
      }
    },
    {
      "cell_type": "markdown",
      "source": [
        "- 4.3.a Estudie la relación de la variable respuesta en comportamiento con la sexo (sex), comente."
      ],
      "metadata": {
        "id": "eigDx5sjc9o-"
      }
    },
    {
      "cell_type": "code",
      "execution_count": null,
      "source": [
        "df_arstmade_sex = pd.DataFrame()\n",
        "df_arstmade_sex = df_final[['arstmade','sex']].copy()\n",
        "pd.crosstab(df_arstmade_sex['arstmade'], df_arstmade_sex['sex'])"
      ],
      "outputs": [],
      "metadata": {
        "colab": {
          "base_uri": "https://localhost:8080/",
          "height": 269
        },
        "id": "LicmN5xgI-CC",
        "outputId": "aff09ef3-0d07-4b6c-884c-95a0cbe98ca1"
      }
    },
    {
      "cell_type": "code",
      "execution_count": null,
      "source": [
        "plt.rcParams['figure.figsize'] = (13,8)\n",
        "props = lambda key: {'color': 'pink' if 'Y' in key else '#b5ffb9'}\n",
        "mosaic(df_final, ['arstmade','sex'],gap=0.01,horizontal=False,ax=None, properties=props);\n",
        "\n",
        "\n"
      ],
      "outputs": [],
      "metadata": {
        "colab": {
          "base_uri": "https://localhost:8080/",
          "height": 269
        },
        "id": "s7QwLJ0Wc9o-",
        "outputId": "b1acdf6a-48b0-49a7-b6f1-17adafdc7c3c"
      }
    },
    {
      "cell_type": "markdown",
      "source": [
        "- 4.3.b Estudie la relación de la variable respuesta en comportamiento con la sexo y la edad en su conjunto, comente."
      ],
      "metadata": {
        "id": "RPr9HaSqc9o-"
      }
    },
    {
      "cell_type": "code",
      "execution_count": null,
      "source": [
        "pd.crosstab([df_final['arstmade'],df_final['sex']],df_final['age'])"
      ],
      "outputs": [],
      "metadata": {
        "colab": {
          "base_uri": "https://localhost:8080/",
          "height": 285
        },
        "id": "mj7AvBKPc9o-",
        "outputId": "ed94a134-31bd-4311-bceb-a02b626b09fc"
      }
    },
    {
      "cell_type": "code",
      "execution_count": null,
      "source": [
        "fig_dims = (14, 9)\n",
        "fig, ax = plt.subplots(figsize=fig_dims)\n",
        "sns.boxplot(x=\"race\", y=\"age\", hue='arstmade', data=df_final);\n",
        "plt.legend(bbox_to_anchor=(1.0, 1.0));"
      ],
      "outputs": [],
      "metadata": {
        "colab": {
          "base_uri": "https://localhost:8080/",
          "height": 551
        },
        "id": "bBOTkFTHeGYV",
        "outputId": "65a85cef-7583-45d8-92f5-bb947390a0ca"
      }
    },
    {
      "cell_type": "markdown",
      "source": [
        "- 4.4 Recodifique la variable respuesta a 1 y 0. Donde 0 es N y 1 es Y"
      ],
      "metadata": {
        "id": "VlIA1hmvc9o-"
      }
    },
    {
      "cell_type": "code",
      "execution_count": null,
      "source": [
        "df_final['arstmade'] = df_final['arstmade'].apply(lambda x : 1 if x == 'Y' else 0);\n",
        "df_final['arstmade'].unique()"
      ],
      "outputs": [],
      "metadata": {
        "colab": {
          "base_uri": "https://localhost:8080/"
        },
        "id": "H8rGu4j2c9o-",
        "outputId": "182209a2-b836-488d-dc78-acbfb694a584"
      }
    },
    {
      "cell_type": "markdown",
      "source": [
        "- 4.5 Muestre en un gráfico la probabilidad que un individuo sea arrestado,condicional al género y a la raza. ¿qué implicancias éticas tienen algunas conclusiones de lo que observa?."
      ],
      "metadata": {
        "id": "NjW9HiSuc9o_"
      }
    },
    {
      "cell_type": "code",
      "execution_count": null,
      "source": [
        "# Considerando y Filtrando todos los Arrestados\n",
        "df_arrestados = df_final[(df_final['arstmade']==1)]\n",
        "df_arrestados = df_arrestados[['sex','race']]\n",
        "pd.crosstab(df_arrestados['sex'],df_arrestados['race']).apply(lambda r: r/len(df_arrestados), axis=1)"
      ],
      "outputs": [],
      "metadata": {
        "colab": {
          "base_uri": "https://localhost:8080/",
          "height": 172
        },
        "id": "DGfm6EyzQlUe",
        "outputId": "3c70d553-c844-45a0-d8a2-a2d4ec259e93"
      }
    },
    {
      "cell_type": "code",
      "execution_count": null,
      "source": [
        "pd.crosstab(df_arrestados['sex'],df_arrestados['race']).apply(lambda r: r/len(df_arrestados), axis=1)"
      ],
      "outputs": [],
      "metadata": {
        "colab": {
          "base_uri": "https://localhost:8080/",
          "height": 172
        },
        "id": "RKOmOdvFYtbw",
        "outputId": "a7027fd8-b749-485e-8609-0985c7738bf0"
      }
    },
    {
      "cell_type": "code",
      "execution_count": null,
      "source": [
        "from sklearn.linear_model import LogisticRegression\n",
        "\n",
        "# df_bla  = pd.get_dummies(df_final.select_dtypes(include='object'))\n",
        "# df_bla['coded_arstmade'] = df_final['coded_arstmade']\n",
        "# df_bla\n",
        "\n",
        "# X = df_bla.drop(columns = 'coded_arstmade')\n",
        "# y = df_bla['coded_arstmade']\n",
        "# # df_final['coded_arstmade'].unique()\n",
        "# # fit final model\n",
        "# model = LogisticRegression()\n",
        "# model.fit(X, y)\n",
        "\n",
        "# new instances where we do not know the answer\n",
        "# Xpred = \n",
        "# # Xnew, _ = make_blobs(n_samples=3, centers=2, n_features=2, random_state=1)\n",
        "# # make a prediction\n",
        "# ynew = model.predict(Xpred)\n",
        "# # show the inputs and predicted outputs\n",
        "# for i in range(len(Xnew)):\n",
        "# \tprint(\"X=%s, Predicted=%s\" % (Xnew[i], ynew[i]))"
      ],
      "outputs": [],
      "metadata": {
        "id": "I6NS_O5kc9o_",
        "outputId": "e6e13f07-6070-436a-9cad-560fbf5d5552"
      }
    },
    {
      "cell_type": "markdown",
      "source": [
        "# 5.- Determinar si el procedimiento policial concluirá en alguna acción violenta. (0.5 puntos)\n",
        "\n",
        "Los atributos que tienen el prefijo pf (`['pf_hands'],['pf_wall'], ['pf_grnd'], ['pf_drwep'], ['pf_ptwep'],['pf_baton'],['pf_hcuff'], ['pf_pepsp'] y ['pf_other']`) indican si hubo fuerza fisica utilizada por el oficial al momento del procedimiento, con la marca 'Y'. \n",
        "\n",
        "Genere una nueva variable llamada 'violencia' la cual sea 1 si en cualquiera de las 9 variables pf hubo alguna 'Y', y 0 en otro caso. Luego indique el porcentaje de casos que terminaron con violencia."
      ],
      "metadata": {
        "id": "gOdc3aefc9o_"
      }
    },
    {
      "cell_type": "markdown",
      "source": [],
      "metadata": {
        "id": "bAal9o5nc9pA"
      }
    },
    {
      "cell_type": "code",
      "execution_count": null,
      "source": [
        "col_violence = ['pf_hands','pf_wall', 'pf_grnd', 'pf_drwep', 'pf_ptwep','pf_baton','pf_hcuff', 'pf_pepsp', 'pf_other']\n",
        "\n",
        "# verificar que todas las columnas mencionadas estén con el valor N  y si alguno es Y retornar un 1 si no retornar 0\n",
        "df_final['violence'] = (df_final[col_violence] == \"Y\").any(axis=\"columns\")\n",
        "df_final['violence'] = df_final['violence'].apply(lambda x : 1 if x == True else 0)"
      ],
      "outputs": [],
      "metadata": {
        "id": "b_znM4__c9pA"
      }
    },
    {
      "cell_type": "code",
      "execution_count": null,
      "source": [
        "pd.crosstab(index=df_final['violence'], columns=\"count\")"
      ],
      "outputs": [],
      "metadata": {
        "colab": {
          "base_uri": "https://localhost:8080/",
          "height": 142
        },
        "id": "8iYYCxmPOzG8",
        "outputId": "f6e94d94-f889-4463-cd83-348f49eab432"
      }
    },
    {
      "cell_type": "code",
      "execution_count": null,
      "source": [
        "df_final['violence'].value_counts().plot(kind='pie', autopct=\"%.1f%%\",colors = ['#a3acff','#b5ffb9'],labels=[\"No Existe Violencia\", \" Existe Violencia\"], title='Porcentaje de casos que Terminaron con Violencia');\n"
      ],
      "outputs": [],
      "metadata": {
        "colab": {
          "base_uri": "https://localhost:8080/",
          "height": 264
        },
        "id": "tZ4frnShPF_U",
        "outputId": "465f9d6b-c9d4-436c-9ee2-512a2d0911f2"
      }
    },
    {
      "cell_type": "markdown",
      "source": [
        "# 6.- Modelación (2 puntos)\n",
        "\n",
        "- 6.1 Genere las variables dummies correspondientes (Tenga cuidado de no utilizar variables que expliquen lo mismo, ¡recuerde que acaba de crear una variable a partir de otras!, además recuerde que creó una variable numérica que es una categoría :) ). Luego genere los sets de train-test  utilizando el año 2009 para entrenar, y el año 2010 para testear. (0.5 pts)"
      ],
      "metadata": {
        "id": "7UPkM7mgc9pA"
      }
    },
    {
      "cell_type": "markdown",
      "source": [
        "- 6.2  Entrene 4 modelos de clásificación y reporte el mejor modelo bajo algún criterio. Utilice validación cruzada de al menos 2 folds para probar distintos hiperparámetros para cada modelo (puede probar cualquier hiperparámetro, pero debe ser al menos uno). (1.5 pts)"
      ],
      "metadata": {
        "id": "3tv7jCS8c9pA"
      }
    },
    {
      "cell_type": "code",
      "execution_count": null,
      "source": [
        "df_final.drop(columns=col_violence, inplace= True)\n",
        "df_final"
      ],
      "outputs": [],
      "metadata": {
        "id": "zHG4QrHgc9pA"
      }
    },
    {
      "cell_type": "code",
      "execution_count": 151,
      "source": [
        "df_y = df_final['arstmade']\n",
        "y_train = df_final[df_final['year'] == 2009]['arstmade']\n",
        "y_test= df_final[df_final['year'] == 2010]['arstmade']\n",
        "df_x = df_final.drop(columns = 'arstmade')\n",
        "df_dummies = pd.get_dummies(df_x, drop_first= True)\n",
        "X_train = df_dummies[df_dummies['year']== 2009]\n",
        "X_test = df_dummies[df_dummies['year']== 2010]\n",
        "df_dummies.head()"
      ],
      "outputs": [
        {
          "output_type": "execute_result",
          "data": {
            "text/html": [
              "<div>\n",
              "<style scoped>\n",
              "    .dataframe tbody tr th:only-of-type {\n",
              "        vertical-align: middle;\n",
              "    }\n",
              "\n",
              "    .dataframe tbody tr th {\n",
              "        vertical-align: top;\n",
              "    }\n",
              "\n",
              "    .dataframe thead th {\n",
              "        text-align: right;\n",
              "    }\n",
              "</style>\n",
              "<table border=\"1\" class=\"dataframe\">\n",
              "  <thead>\n",
              "    <tr style=\"text-align: right;\">\n",
              "      <th></th>\n",
              "      <th>month</th>\n",
              "      <th>year</th>\n",
              "      <th>meters</th>\n",
              "      <th>age</th>\n",
              "      <th>violence</th>\n",
              "      <th>recstat_A</th>\n",
              "      <th>inout_O</th>\n",
              "      <th>trhsloc_P</th>\n",
              "      <th>trhsloc_T</th>\n",
              "      <th>trhsloc_U</th>\n",
              "      <th>...</th>\n",
              "      <th>beat_UUU3</th>\n",
              "      <th>beat_UUU4</th>\n",
              "      <th>beat_UUU5</th>\n",
              "      <th>beat_UUU6</th>\n",
              "      <th>beat_UUU7</th>\n",
              "      <th>beat_UUU8</th>\n",
              "      <th>beat_UUU9</th>\n",
              "      <th>dettypcm_CM</th>\n",
              "      <th>linecm_</th>\n",
              "      <th>linecm_1</th>\n",
              "    </tr>\n",
              "  </thead>\n",
              "  <tbody>\n",
              "    <tr>\n",
              "      <td>0</td>\n",
              "      <td>4</td>\n",
              "      <td>2009</td>\n",
              "      <td>1.7526</td>\n",
              "      <td>24</td>\n",
              "      <td>0</td>\n",
              "      <td>1</td>\n",
              "      <td>1</td>\n",
              "      <td>1</td>\n",
              "      <td>0</td>\n",
              "      <td>0</td>\n",
              "      <td>...</td>\n",
              "      <td>0</td>\n",
              "      <td>0</td>\n",
              "      <td>0</td>\n",
              "      <td>0</td>\n",
              "      <td>0</td>\n",
              "      <td>0</td>\n",
              "      <td>0</td>\n",
              "      <td>1</td>\n",
              "      <td>0</td>\n",
              "      <td>0</td>\n",
              "    </tr>\n",
              "    <tr>\n",
              "      <td>2</td>\n",
              "      <td>10</td>\n",
              "      <td>2009</td>\n",
              "      <td>1.9050</td>\n",
              "      <td>21</td>\n",
              "      <td>0</td>\n",
              "      <td>0</td>\n",
              "      <td>1</td>\n",
              "      <td>1</td>\n",
              "      <td>0</td>\n",
              "      <td>0</td>\n",
              "      <td>...</td>\n",
              "      <td>0</td>\n",
              "      <td>0</td>\n",
              "      <td>0</td>\n",
              "      <td>0</td>\n",
              "      <td>0</td>\n",
              "      <td>0</td>\n",
              "      <td>0</td>\n",
              "      <td>1</td>\n",
              "      <td>0</td>\n",
              "      <td>0</td>\n",
              "    </tr>\n",
              "    <tr>\n",
              "      <td>3</td>\n",
              "      <td>12</td>\n",
              "      <td>2009</td>\n",
              "      <td>1.6510</td>\n",
              "      <td>22</td>\n",
              "      <td>0</td>\n",
              "      <td>1</td>\n",
              "      <td>1</td>\n",
              "      <td>1</td>\n",
              "      <td>0</td>\n",
              "      <td>0</td>\n",
              "      <td>...</td>\n",
              "      <td>0</td>\n",
              "      <td>0</td>\n",
              "      <td>0</td>\n",
              "      <td>0</td>\n",
              "      <td>0</td>\n",
              "      <td>0</td>\n",
              "      <td>0</td>\n",
              "      <td>1</td>\n",
              "      <td>0</td>\n",
              "      <td>0</td>\n",
              "    </tr>\n",
              "    <tr>\n",
              "      <td>4</td>\n",
              "      <td>12</td>\n",
              "      <td>2009</td>\n",
              "      <td>1.6764</td>\n",
              "      <td>18</td>\n",
              "      <td>0</td>\n",
              "      <td>1</td>\n",
              "      <td>1</td>\n",
              "      <td>1</td>\n",
              "      <td>0</td>\n",
              "      <td>0</td>\n",
              "      <td>...</td>\n",
              "      <td>0</td>\n",
              "      <td>0</td>\n",
              "      <td>0</td>\n",
              "      <td>0</td>\n",
              "      <td>0</td>\n",
              "      <td>0</td>\n",
              "      <td>0</td>\n",
              "      <td>1</td>\n",
              "      <td>0</td>\n",
              "      <td>0</td>\n",
              "    </tr>\n",
              "    <tr>\n",
              "      <td>5</td>\n",
              "      <td>5</td>\n",
              "      <td>2009</td>\n",
              "      <td>1.7272</td>\n",
              "      <td>47</td>\n",
              "      <td>0</td>\n",
              "      <td>0</td>\n",
              "      <td>0</td>\n",
              "      <td>0</td>\n",
              "      <td>1</td>\n",
              "      <td>0</td>\n",
              "      <td>...</td>\n",
              "      <td>0</td>\n",
              "      <td>0</td>\n",
              "      <td>0</td>\n",
              "      <td>0</td>\n",
              "      <td>0</td>\n",
              "      <td>0</td>\n",
              "      <td>0</td>\n",
              "      <td>1</td>\n",
              "      <td>0</td>\n",
              "      <td>0</td>\n",
              "    </tr>\n",
              "  </tbody>\n",
              "</table>\n",
              "<p>5 rows × 185 columns</p>\n",
              "</div>"
            ],
            "text/plain": [
              "   month  year  meters  age  violence  recstat_A  inout_O  trhsloc_P  \\\n",
              "0      4  2009  1.7526   24         0          1        1          1   \n",
              "2     10  2009  1.9050   21         0          0        1          1   \n",
              "3     12  2009  1.6510   22         0          1        1          1   \n",
              "4     12  2009  1.6764   18         0          1        1          1   \n",
              "5      5  2009  1.7272   47         0          0        0          0   \n",
              "\n",
              "   trhsloc_T  trhsloc_U  ...  beat_UUU3  beat_UUU4  beat_UUU5  beat_UUU6  \\\n",
              "0          0          0  ...          0          0          0          0   \n",
              "2          0          0  ...          0          0          0          0   \n",
              "3          0          0  ...          0          0          0          0   \n",
              "4          0          0  ...          0          0          0          0   \n",
              "5          1          0  ...          0          0          0          0   \n",
              "\n",
              "   beat_UUU7  beat_UUU8  beat_UUU9  dettypcm_CM  linecm_   linecm_1  \n",
              "0          0          0          0            1         0         0  \n",
              "2          0          0          0            1         0         0  \n",
              "3          0          0          0            1         0         0  \n",
              "4          0          0          0            1         0         0  \n",
              "5          0          0          0            1         0         0  \n",
              "\n",
              "[5 rows x 185 columns]"
            ]
          },
          "metadata": {},
          "execution_count": 151
        }
      ],
      "metadata": {}
    },
    {
      "cell_type": "markdown",
      "source": [
        "### Supporting Vector Machine"
      ],
      "metadata": {}
    },
    {
      "cell_type": "code",
      "execution_count": null,
      "source": [
        "# Se construye el modelo Super Vector Machine \n",
        "svm_model = SVC() #rbf, sigmoid, poly # 0,0001 < gamma < 10, 0,1 < C < 100\n",
        "svm_model.fit(X_train, y_train)\n",
        "\n",
        "# Se predice\n",
        "svm_pred = svm_model.predict(X_test)\n",
        "\n",
        "#repotes\n",
        "print(classification_report(y_test, svm_pred))\n",
        "pd.crosstab(y_test, svm_pred) "
      ],
      "outputs": [],
      "metadata": {}
    },
    {
      "cell_type": "markdown",
      "source": [
        "### Naive Bayes"
      ],
      "metadata": {}
    },
    {
      "cell_type": "code",
      "execution_count": 154,
      "source": [
        "# Se construye el modelo Naive Bayes\n",
        "modelo_nb = MultinomialNB(fit_prior=False) ##High=0 Low=1 Medium=2\n",
        "modelo_nb.fit(X_train, y_train) # no es necesario la estandarización\n",
        "\n",
        "# Se predice\n",
        "nb_pred = modelo_nb.predict(X_test)\n",
        "\n",
        "#repotes\n",
        "print(classification_report(y_test, nb_pred))\n",
        "pd.crosstab(y_test, nb_pred)"
      ],
      "outputs": [
        {
          "output_type": "stream",
          "name": "stdout",
          "text": [
            "              precision    recall  f1-score   support\n",
            "\n",
            "           0       0.99      0.43      0.60      4749\n",
            "           1       0.11      0.96      0.19       342\n",
            "\n",
            "    accuracy                           0.46      5091\n",
            "   macro avg       0.55      0.69      0.40      5091\n",
            "weighted avg       0.93      0.46      0.57      5091\n",
            "\n"
          ]
        },
        {
          "output_type": "execute_result",
          "data": {
            "text/html": [
              "<div>\n",
              "<style scoped>\n",
              "    .dataframe tbody tr th:only-of-type {\n",
              "        vertical-align: middle;\n",
              "    }\n",
              "\n",
              "    .dataframe tbody tr th {\n",
              "        vertical-align: top;\n",
              "    }\n",
              "\n",
              "    .dataframe thead th {\n",
              "        text-align: right;\n",
              "    }\n",
              "</style>\n",
              "<table border=\"1\" class=\"dataframe\">\n",
              "  <thead>\n",
              "    <tr style=\"text-align: right;\">\n",
              "      <th>col_0</th>\n",
              "      <th>0</th>\n",
              "      <th>1</th>\n",
              "    </tr>\n",
              "    <tr>\n",
              "      <th>arstmade</th>\n",
              "      <th></th>\n",
              "      <th></th>\n",
              "    </tr>\n",
              "  </thead>\n",
              "  <tbody>\n",
              "    <tr>\n",
              "      <td>0</td>\n",
              "      <td>2039</td>\n",
              "      <td>2710</td>\n",
              "    </tr>\n",
              "    <tr>\n",
              "      <td>1</td>\n",
              "      <td>15</td>\n",
              "      <td>327</td>\n",
              "    </tr>\n",
              "  </tbody>\n",
              "</table>\n",
              "</div>"
            ],
            "text/plain": [
              "col_0        0     1\n",
              "arstmade            \n",
              "0         2039  2710\n",
              "1           15   327"
            ]
          },
          "metadata": {},
          "execution_count": 154
        }
      ],
      "metadata": {}
    },
    {
      "cell_type": "markdown",
      "source": [
        "### Arbol de decisiones"
      ],
      "metadata": {}
    },
    {
      "cell_type": "code",
      "execution_count": 152,
      "source": [
        "print(y_test)"
      ],
      "outputs": [
        {
          "output_type": "stream",
          "name": "stdout",
          "text": [
            "0       0\n",
            "1       0\n",
            "2       0\n",
            "3       0\n",
            "4       0\n",
            "       ..\n",
            "6007    0\n",
            "6008    0\n",
            "6009    0\n",
            "6011    0\n",
            "6012    0\n",
            "Name: arstmade, Length: 5091, dtype: category\n",
            "Categories (2, int64): [0, 1]\n"
          ]
        }
      ],
      "metadata": {}
    },
    {
      "cell_type": "code",
      "execution_count": 164,
      "source": [
        "model = DecisionTreeClassifier().fit(X_train, y_train)\n",
        "dt_pred = model.predict(X_test)\n",
        "\n",
        "#repotes\n",
        "print(classification_report(y_test, dt_pred))\n",
        "pd.crosstab(y_test, dt_pred)\n"
      ],
      "outputs": [
        {
          "output_type": "stream",
          "name": "stdout",
          "text": [
            "              precision    recall  f1-score   support\n",
            "\n",
            "           0       0.97      0.97      0.97      4749\n",
            "           1       0.58      0.58      0.58       342\n",
            "\n",
            "    accuracy                           0.94      5091\n",
            "   macro avg       0.77      0.78      0.78      5091\n",
            "weighted avg       0.94      0.94      0.94      5091\n",
            "\n"
          ]
        },
        {
          "output_type": "execute_result",
          "data": {
            "text/html": [
              "<div>\n",
              "<style scoped>\n",
              "    .dataframe tbody tr th:only-of-type {\n",
              "        vertical-align: middle;\n",
              "    }\n",
              "\n",
              "    .dataframe tbody tr th {\n",
              "        vertical-align: top;\n",
              "    }\n",
              "\n",
              "    .dataframe thead th {\n",
              "        text-align: right;\n",
              "    }\n",
              "</style>\n",
              "<table border=\"1\" class=\"dataframe\">\n",
              "  <thead>\n",
              "    <tr style=\"text-align: right;\">\n",
              "      <th>col_0</th>\n",
              "      <th>0</th>\n",
              "      <th>1</th>\n",
              "    </tr>\n",
              "    <tr>\n",
              "      <th>arstmade</th>\n",
              "      <th></th>\n",
              "      <th></th>\n",
              "    </tr>\n",
              "  </thead>\n",
              "  <tbody>\n",
              "    <tr>\n",
              "      <td>0</td>\n",
              "      <td>4602</td>\n",
              "      <td>147</td>\n",
              "    </tr>\n",
              "    <tr>\n",
              "      <td>1</td>\n",
              "      <td>142</td>\n",
              "      <td>200</td>\n",
              "    </tr>\n",
              "  </tbody>\n",
              "</table>\n",
              "</div>"
            ],
            "text/plain": [
              "col_0        0    1\n",
              "arstmade           \n",
              "0         4602  147\n",
              "1          142  200"
            ]
          },
          "metadata": {},
          "execution_count": 164
        }
      ],
      "metadata": {}
    },
    {
      "cell_type": "markdown",
      "source": [
        "### Random forest"
      ],
      "metadata": {}
    },
    {
      "cell_type": "code",
      "execution_count": 163,
      "source": [
        "from sklearn.ensemble import RandomForestClassifier\n",
        "\n",
        "bosque = RandomForestClassifier(n_estimators=1000, criterion='entropy').fit(X_train, y_train)\n",
        "\n",
        "y_pred_bosque=bosque.predict(X_test)\n",
        "\n",
        "print(classification_report(y_test, y_pred_bosque))\n",
        "pd.crosstab(y_test, y_pred_bosque)\n"
      ],
      "outputs": [
        {
          "output_type": "stream",
          "name": "stdout",
          "text": [
            "              precision    recall  f1-score   support\n",
            "\n",
            "           0       0.96      0.99      0.98      4749\n",
            "           1       0.87      0.49      0.63       342\n",
            "\n",
            "    accuracy                           0.96      5091\n",
            "   macro avg       0.92      0.74      0.81      5091\n",
            "weighted avg       0.96      0.96      0.96      5091\n",
            "\n"
          ]
        },
        {
          "output_type": "execute_result",
          "data": {
            "text/html": [
              "<div>\n",
              "<style scoped>\n",
              "    .dataframe tbody tr th:only-of-type {\n",
              "        vertical-align: middle;\n",
              "    }\n",
              "\n",
              "    .dataframe tbody tr th {\n",
              "        vertical-align: top;\n",
              "    }\n",
              "\n",
              "    .dataframe thead th {\n",
              "        text-align: right;\n",
              "    }\n",
              "</style>\n",
              "<table border=\"1\" class=\"dataframe\">\n",
              "  <thead>\n",
              "    <tr style=\"text-align: right;\">\n",
              "      <th>col_0</th>\n",
              "      <th>0</th>\n",
              "      <th>1</th>\n",
              "    </tr>\n",
              "    <tr>\n",
              "      <th>arstmade</th>\n",
              "      <th></th>\n",
              "      <th></th>\n",
              "    </tr>\n",
              "  </thead>\n",
              "  <tbody>\n",
              "    <tr>\n",
              "      <td>0</td>\n",
              "      <td>4724</td>\n",
              "      <td>25</td>\n",
              "    </tr>\n",
              "    <tr>\n",
              "      <td>1</td>\n",
              "      <td>173</td>\n",
              "      <td>169</td>\n",
              "    </tr>\n",
              "  </tbody>\n",
              "</table>\n",
              "</div>"
            ],
            "text/plain": [
              "col_0        0    1\n",
              "arstmade           \n",
              "0         4724   25\n",
              "1          173  169"
            ]
          },
          "metadata": {},
          "execution_count": 163
        }
      ],
      "metadata": {}
    },
    {
      "cell_type": "markdown",
      "source": [
        "# Bonus (0.5 pts)\n",
        "\n",
        "¿Que puede hacer para mejorar la predicción de los modelos?"
      ],
      "metadata": {
        "id": "ZCLeoXAXc9pB"
      }
    },
    {
      "cell_type": "code",
      "execution_count": null,
      "source": [
        "+ Para mejorar el modelo de **SVM** ocupe validación cruzada para mejorar los hiperparametros. "
      ],
      "outputs": [],
      "metadata": {}
    }
  ]
}