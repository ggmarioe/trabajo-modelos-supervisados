{
  "nbformat": 4,
  "nbformat_minor": 2,
  "metadata": {
    "kernelspec": {
      "name": "python3",
      "display_name": "Python 3.7.4 64-bit ('base': conda)"
    },
    "language_info": {
      "codemirror_mode": {
        "name": "ipython",
        "version": 3
      },
      "file_extension": ".py",
      "mimetype": "text/x-python",
      "name": "python",
      "nbconvert_exporter": "python",
      "pygments_lexer": "ipython3",
      "version": "3.7.4"
    },
    "interpreter": {
      "hash": "9deccd5935b16705b63e023b6ccda975e42a314cdef154174482df844a5eee5c"
    },
    "colab": {
      "name": "Prueba Supervisada.ipynb",
      "provenance": [],
      "toc_visible": true
    }
  },
  "cells": [
    {
      "cell_type": "markdown",
      "source": [
        "## Prueba de  Modelos supervisados\n",
        "![image.png](attachment:95702e4f-3c23-4c14-b887-82214f262d60.png)\n",
        "\n",
        "#### Pontificia Universidad Católica de Chile\n",
        "Diplomado en Data Science\n",
        "\n",
        "Septiembre 2021\n",
        "\n",
        "\n",
        "### Nombre:\n",
        "Pablo Opazo \n",
        "Mario Guajardo"
      ],
      "metadata": {
        "id": "ClqsNGtXc9os"
      }
    },
    {
      "cell_type": "markdown",
      "source": [
        "\n",
        "Utilizaremos un set de datos de las policias de New York del año 2009 y 2010. (`2009_1perc.csv` y `2010_1perc.csv`) los cuales nos darán información de los procedimientos policiales realizados. Además se le entregará el diccionario de variables para que pueda consultar que significa cada categoría dentro de las variables.\n",
        "\n",
        "- La variable respuesta 'arstmade' informa si los procedimientos policiales han terminado en arresto o no, y el objetivo será realizar un modelo de Machine Learning para predecir si un futuro procedimiento terminará en arresto."
      ],
      "metadata": {
        "id": "XNCXVGjcc9ox"
      }
    },
    {
      "cell_type": "markdown",
      "source": [
        "# 1.- Enliste todas las librerias que utilizará (0.5 puntos)\n",
        "Nota: Se recomienda ir actualizando la lista conforme las necesidades vaya teniendo durante el desarrollo de la prueba"
      ],
      "metadata": {
        "id": "9laA2Om7c9oy"
      }
    },
    {
      "cell_type": "code",
      "execution_count": 239,
      "source": [
        "import datetime\n",
        "import pandas as pd \n",
        "import numpy as np \n",
        "import missingno as msno\n",
        "import matplotlib.pyplot as plt\n",
        "from statsmodels.graphics.mosaicplot import mosaic\n",
        "import seaborn as sns\n",
        "\n",
        "# transformacion de datos\n",
        "from sklearn.preprocessing import OneHotEncoder\n",
        "from sklearn.preprocessing import StandardScaler # estandarizar\n",
        "from sklearn.preprocessing import LabelEncoder #cambia categorias a numeros\n",
        "\n",
        "\n",
        "# librerias de modelacion y metricas\n",
        "from sklearn.model_selection import GridSearchCV #haremos grillas de hiperparametros con validacion cruzada\n",
        "from sklearn.model_selection import train_test_split #dividar la base en entranemiento/test\n",
        "from sklearn.metrics import classification_report, confusion_matrix,ConfusionMatrixDisplay #reportes\n",
        "\n",
        "\n",
        "# librerias de los modelos \n",
        "from sklearn.svm import SVC #Super Vector Machine \n",
        "from sklearn.discriminant_analysis import LinearDiscriminantAnalysis # LDA\n",
        "from sklearn.discriminant_analysis import QuadraticDiscriminantAnalysis # QDA\n",
        "from sklearn.naive_bayes import MultinomialNB #Naive Bayes\n",
        "\n",
        "from sklearn.tree import DecisionTreeClassifier, plot_tree\n",
        "from sklearn import tree\n",
        "\n",
        "\n",
        "\n",
        "import warnings\n",
        "warnings.filterwarnings('ignore')"
      ],
      "outputs": [],
      "metadata": {
        "id": "NHtbIBVAc9oz"
      }
    },
    {
      "cell_type": "markdown",
      "source": [
        "# 2.- Importación y revisión de los datos (1 punto)\n",
        "\n",
        "Importe ambos sets. Dado que la fuente de datos proviene de la misma base, tienen las mismas columnas. Consolide ambos sets y reporte una exploración *básica* de los datos (numero de filas/columnas, tipos de datos, estadísticas básicas, casos perdidos)"
      ],
      "metadata": {
        "id": "KLu7_qTMc9o0"
      }
    },
    {
      "cell_type": "code",
      "execution_count": 240,
      "source": [
        "df1 = pd.read_csv(\"2009_1perc.csv\") \n",
        "df2 = pd.read_csv(\"2010_1perc.csv\") \n",
        "df_consolidado = df1.append(df2)\n",
        "df_consolidado.info()"
      ],
      "outputs": [
        {
          "output_type": "stream",
          "name": "stdout",
          "text": [
            "<class 'pandas.core.frame.DataFrame'>\n",
            "Int64Index: 11825 entries, 0 to 6012\n",
            "Columns: 112 entries, Unnamed: 0 to detailcm\n",
            "dtypes: float64(1), int64(16), object(95)\n",
            "memory usage: 10.2+ MB\n"
          ]
        }
      ],
      "metadata": {
        "colab": {
          "base_uri": "https://localhost:8080/"
        },
        "id": "t17jwRCIc9o0",
        "outputId": "520ffd26-0e65-4b39-ed70-79d85d0e7501"
      }
    },
    {
      "cell_type": "code",
      "execution_count": 241,
      "source": [
        "df_consolidado.head(12000) #Formato de DataFrame consolidando los datos del 2009 y 2010"
      ],
      "outputs": [
        {
          "output_type": "execute_result",
          "data": {
            "text/html": [
              "<div>\n",
              "<style scoped>\n",
              "    .dataframe tbody tr th:only-of-type {\n",
              "        vertical-align: middle;\n",
              "    }\n",
              "\n",
              "    .dataframe tbody tr th {\n",
              "        vertical-align: top;\n",
              "    }\n",
              "\n",
              "    .dataframe thead th {\n",
              "        text-align: right;\n",
              "    }\n",
              "</style>\n",
              "<table border=\"1\" class=\"dataframe\">\n",
              "  <thead>\n",
              "    <tr style=\"text-align: right;\">\n",
              "      <th></th>\n",
              "      <th>Unnamed: 0</th>\n",
              "      <th>year</th>\n",
              "      <th>pct</th>\n",
              "      <th>ser_num</th>\n",
              "      <th>datestop</th>\n",
              "      <th>timestop</th>\n",
              "      <th>recstat</th>\n",
              "      <th>inout</th>\n",
              "      <th>trhsloc</th>\n",
              "      <th>perobs</th>\n",
              "      <th>...</th>\n",
              "      <th>zip</th>\n",
              "      <th>addrpct</th>\n",
              "      <th>sector</th>\n",
              "      <th>beat</th>\n",
              "      <th>post</th>\n",
              "      <th>xcoord</th>\n",
              "      <th>ycoord</th>\n",
              "      <th>dettypcm</th>\n",
              "      <th>linecm</th>\n",
              "      <th>detailcm</th>\n",
              "    </tr>\n",
              "  </thead>\n",
              "  <tbody>\n",
              "    <tr>\n",
              "      <td>0</td>\n",
              "      <td>178048</td>\n",
              "      <td>2009</td>\n",
              "      <td>41</td>\n",
              "      <td>1779</td>\n",
              "      <td>4032009</td>\n",
              "      <td>130</td>\n",
              "      <td>A</td>\n",
              "      <td>O</td>\n",
              "      <td>P</td>\n",
              "      <td>1.0</td>\n",
              "      <td>...</td>\n",
              "      <td></td>\n",
              "      <td>41</td>\n",
              "      <td>G</td>\n",
              "      <td>7</td>\n",
              "      <td></td>\n",
              "      <td>1013067</td>\n",
              "      <td>0238633</td>\n",
              "      <td>CM</td>\n",
              "      <td>1</td>\n",
              "      <td>20</td>\n",
              "    </tr>\n",
              "    <tr>\n",
              "      <td>1</td>\n",
              "      <td>498873</td>\n",
              "      <td>2009</td>\n",
              "      <td>108</td>\n",
              "      <td>5805</td>\n",
              "      <td>10292009</td>\n",
              "      <td>1050</td>\n",
              "      <td>A</td>\n",
              "      <td>O</td>\n",
              "      <td>P</td>\n",
              "      <td>3.0</td>\n",
              "      <td>...</td>\n",
              "      <td></td>\n",
              "      <td>108</td>\n",
              "      <td>J</td>\n",
              "      <td></td>\n",
              "      <td></td>\n",
              "      <td>1012043</td>\n",
              "      <td>0212157</td>\n",
              "      <td>CM</td>\n",
              "      <td>1</td>\n",
              "      <td>14</td>\n",
              "    </tr>\n",
              "    <tr>\n",
              "      <td>2</td>\n",
              "      <td>463573</td>\n",
              "      <td>2009</td>\n",
              "      <td>43</td>\n",
              "      <td>8340</td>\n",
              "      <td>10062009</td>\n",
              "      <td>1450</td>\n",
              "      <td>1</td>\n",
              "      <td>O</td>\n",
              "      <td>P</td>\n",
              "      <td>1.0</td>\n",
              "      <td>...</td>\n",
              "      <td></td>\n",
              "      <td>43</td>\n",
              "      <td>E</td>\n",
              "      <td></td>\n",
              "      <td></td>\n",
              "      <td>1017599</td>\n",
              "      <td>0240200</td>\n",
              "      <td>CM</td>\n",
              "      <td>1</td>\n",
              "      <td>20</td>\n",
              "    </tr>\n",
              "    <tr>\n",
              "      <td>3</td>\n",
              "      <td>43626</td>\n",
              "      <td>2009</td>\n",
              "      <td>77</td>\n",
              "      <td>932</td>\n",
              "      <td>1232009</td>\n",
              "      <td>1843</td>\n",
              "      <td>A</td>\n",
              "      <td>O</td>\n",
              "      <td>P</td>\n",
              "      <td>5.0</td>\n",
              "      <td>...</td>\n",
              "      <td></td>\n",
              "      <td>77</td>\n",
              "      <td>J</td>\n",
              "      <td>4</td>\n",
              "      <td>35</td>\n",
              "      <td>1002625</td>\n",
              "      <td>0183442</td>\n",
              "      <td>CM</td>\n",
              "      <td>1</td>\n",
              "      <td>24</td>\n",
              "    </tr>\n",
              "    <tr>\n",
              "      <td>4</td>\n",
              "      <td>563921</td>\n",
              "      <td>2009</td>\n",
              "      <td>110</td>\n",
              "      <td>11224</td>\n",
              "      <td>12132009</td>\n",
              "      <td>1655</td>\n",
              "      <td>A</td>\n",
              "      <td>O</td>\n",
              "      <td>P</td>\n",
              "      <td>3.0</td>\n",
              "      <td>...</td>\n",
              "      <td></td>\n",
              "      <td>110</td>\n",
              "      <td>H</td>\n",
              "      <td></td>\n",
              "      <td></td>\n",
              "      <td>1024535</td>\n",
              "      <td>0209890</td>\n",
              "      <td>CM</td>\n",
              "      <td>1</td>\n",
              "      <td>20</td>\n",
              "    </tr>\n",
              "    <tr>\n",
              "      <td>...</td>\n",
              "      <td>...</td>\n",
              "      <td>...</td>\n",
              "      <td>...</td>\n",
              "      <td>...</td>\n",
              "      <td>...</td>\n",
              "      <td>...</td>\n",
              "      <td>...</td>\n",
              "      <td>...</td>\n",
              "      <td>...</td>\n",
              "      <td>...</td>\n",
              "      <td>...</td>\n",
              "      <td>...</td>\n",
              "      <td>...</td>\n",
              "      <td>...</td>\n",
              "      <td>...</td>\n",
              "      <td>...</td>\n",
              "      <td>...</td>\n",
              "      <td>...</td>\n",
              "      <td>...</td>\n",
              "      <td>...</td>\n",
              "      <td>...</td>\n",
              "    </tr>\n",
              "    <tr>\n",
              "      <td>6008</td>\n",
              "      <td>449178</td>\n",
              "      <td>2010</td>\n",
              "      <td>60</td>\n",
              "      <td>7062</td>\n",
              "      <td>9262010</td>\n",
              "      <td>45</td>\n",
              "      <td>1</td>\n",
              "      <td>O</td>\n",
              "      <td>H</td>\n",
              "      <td>2.0</td>\n",
              "      <td>...</td>\n",
              "      <td></td>\n",
              "      <td>60</td>\n",
              "      <td>I</td>\n",
              "      <td></td>\n",
              "      <td></td>\n",
              "      <td>989382</td>\n",
              "      <td>155162</td>\n",
              "      <td>CM</td>\n",
              "      <td>1</td>\n",
              "      <td>20</td>\n",
              "    </tr>\n",
              "    <tr>\n",
              "      <td>6009</td>\n",
              "      <td>362162</td>\n",
              "      <td>2010</td>\n",
              "      <td>75</td>\n",
              "      <td>15797</td>\n",
              "      <td>7302010</td>\n",
              "      <td>10</td>\n",
              "      <td>A</td>\n",
              "      <td>O</td>\n",
              "      <td>P</td>\n",
              "      <td>1.0</td>\n",
              "      <td>...</td>\n",
              "      <td></td>\n",
              "      <td>75</td>\n",
              "      <td>A</td>\n",
              "      <td></td>\n",
              "      <td></td>\n",
              "      <td>1012757</td>\n",
              "      <td>186018</td>\n",
              "      <td>CM</td>\n",
              "      <td>1</td>\n",
              "      <td>85</td>\n",
              "    </tr>\n",
              "    <tr>\n",
              "      <td>6010</td>\n",
              "      <td>208893</td>\n",
              "      <td>2010</td>\n",
              "      <td>123</td>\n",
              "      <td>830</td>\n",
              "      <td>4302010</td>\n",
              "      <td>1630</td>\n",
              "      <td>A</td>\n",
              "      <td>O</td>\n",
              "      <td>P</td>\n",
              "      <td>3.0</td>\n",
              "      <td>...</td>\n",
              "      <td></td>\n",
              "      <td>123</td>\n",
              "      <td>E</td>\n",
              "      <td></td>\n",
              "      <td></td>\n",
              "      <td>933868</td>\n",
              "      <td>138600</td>\n",
              "      <td>CM</td>\n",
              "      <td>1</td>\n",
              "      <td>46</td>\n",
              "    </tr>\n",
              "    <tr>\n",
              "      <td>6011</td>\n",
              "      <td>551820</td>\n",
              "      <td>2010</td>\n",
              "      <td>115</td>\n",
              "      <td>13122</td>\n",
              "      <td>11232010</td>\n",
              "      <td>2100</td>\n",
              "      <td>1</td>\n",
              "      <td>O</td>\n",
              "      <td>P</td>\n",
              "      <td>1.0</td>\n",
              "      <td>...</td>\n",
              "      <td></td>\n",
              "      <td>115</td>\n",
              "      <td>E</td>\n",
              "      <td></td>\n",
              "      <td></td>\n",
              "      <td>1014722</td>\n",
              "      <td>214388</td>\n",
              "      <td>CM</td>\n",
              "      <td>1</td>\n",
              "      <td>85</td>\n",
              "    </tr>\n",
              "    <tr>\n",
              "      <td>6012</td>\n",
              "      <td>6678</td>\n",
              "      <td>2010</td>\n",
              "      <td>14</td>\n",
              "      <td>219</td>\n",
              "      <td>1062010</td>\n",
              "      <td>1406</td>\n",
              "      <td>1</td>\n",
              "      <td>I</td>\n",
              "      <td>T</td>\n",
              "      <td>4.0</td>\n",
              "      <td>...</td>\n",
              "      <td></td>\n",
              "      <td>14</td>\n",
              "      <td>H</td>\n",
              "      <td>11</td>\n",
              "      <td></td>\n",
              "      <td>987078</td>\n",
              "      <td>215157</td>\n",
              "      <td>CM</td>\n",
              "      <td>1</td>\n",
              "      <td>23</td>\n",
              "    </tr>\n",
              "  </tbody>\n",
              "</table>\n",
              "<p>11825 rows × 112 columns</p>\n",
              "</div>"
            ],
            "text/plain": [
              "      Unnamed: 0  year  pct  ser_num  datestop  timestop recstat inout  \\\n",
              "0         178048  2009   41     1779   4032009       130       A     O   \n",
              "1         498873  2009  108     5805  10292009      1050       A     O   \n",
              "2         463573  2009   43     8340  10062009      1450       1     O   \n",
              "3          43626  2009   77      932   1232009      1843       A     O   \n",
              "4         563921  2009  110    11224  12132009      1655       A     O   \n",
              "...          ...   ...  ...      ...       ...       ...     ...   ...   \n",
              "6008      449178  2010   60     7062   9262010        45       1     O   \n",
              "6009      362162  2010   75    15797   7302010        10       A     O   \n",
              "6010      208893  2010  123      830   4302010      1630       A     O   \n",
              "6011      551820  2010  115    13122  11232010      2100       1     O   \n",
              "6012        6678  2010   14      219   1062010      1406       1     I   \n",
              "\n",
              "     trhsloc  perobs  ... zip  addrpct sector beat post   xcoord   ycoord  \\\n",
              "0          P     1.0  ...           41      G    7       1013067  0238633   \n",
              "1          P     3.0  ...          108      J            1012043  0212157   \n",
              "2          P     1.0  ...           43      E            1017599  0240200   \n",
              "3          P     5.0  ...           77      J    4   35  1002625  0183442   \n",
              "4          P     3.0  ...          110      H            1024535  0209890   \n",
              "...      ...     ...  ...  ..      ...    ...  ...  ...      ...      ...   \n",
              "6008       H     2.0  ...           60      I             989382   155162   \n",
              "6009       P     1.0  ...           75      A            1012757   186018   \n",
              "6010       P     3.0  ...          123      E             933868   138600   \n",
              "6011       P     1.0  ...          115      E            1014722   214388   \n",
              "6012       T     4.0  ...           14      H   11        987078   215157   \n",
              "\n",
              "     dettypcm linecm  detailcm  \n",
              "0          CM      1        20  \n",
              "1          CM      1        14  \n",
              "2          CM      1        20  \n",
              "3          CM      1        24  \n",
              "4          CM      1        20  \n",
              "...       ...    ...       ...  \n",
              "6008       CM      1        20  \n",
              "6009       CM      1        85  \n",
              "6010       CM      1        46  \n",
              "6011       CM      1        85  \n",
              "6012       CM      1        23  \n",
              "\n",
              "[11825 rows x 112 columns]"
            ]
          },
          "metadata": {},
          "execution_count": 241
        }
      ],
      "metadata": {
        "colab": {
          "base_uri": "https://localhost:8080/",
          "height": 602
        },
        "id": "aYnMgbncfHVo",
        "outputId": "2c473c8c-8240-4c25-9f80-b78bb730e9c3"
      }
    },
    {
      "cell_type": "code",
      "execution_count": 242,
      "source": [
        "df_consolidado.shape # Se tienen 11.825 filas y 112 columnas"
      ],
      "outputs": [
        {
          "output_type": "execute_result",
          "data": {
            "text/plain": [
              "(11825, 112)"
            ]
          },
          "metadata": {},
          "execution_count": 242
        }
      ],
      "metadata": {
        "colab": {
          "base_uri": "https://localhost:8080/"
        },
        "id": "tejwjqfnc9o1",
        "outputId": "9a5e7411-5dbe-47a5-ebcb-e088c57bd92d"
      }
    },
    {
      "cell_type": "code",
      "execution_count": 243,
      "source": [
        "df_consolidado.dtypes \n",
        "#Se tiene que a excepción de las Variables \"Unnamed:\", \"year\", \"pct\",\"ser_num\",\"datestop\" las cuales son numericas(int64), \n",
        "#el resto de Variables son de tipo Categorica(object). Al revisar se necesitan cambiar el tipo de dato de algunas variables \n",
        "#lo cual se realizará mas adelante."
      ],
      "outputs": [
        {
          "output_type": "execute_result",
          "data": {
            "text/plain": [
              "Unnamed: 0     int64\n",
              "year           int64\n",
              "pct            int64\n",
              "ser_num        int64\n",
              "datestop       int64\n",
              "               ...  \n",
              "xcoord        object\n",
              "ycoord        object\n",
              "dettypcm      object\n",
              "linecm        object\n",
              "detailcm      object\n",
              "Length: 112, dtype: object"
            ]
          },
          "metadata": {},
          "execution_count": 243
        }
      ],
      "metadata": {
        "colab": {
          "base_uri": "https://localhost:8080/"
        },
        "id": "jPp8_hgOfu0O",
        "outputId": "f7849963-bc7c-4d46-ef60-6097d53ccffd"
      }
    },
    {
      "cell_type": "code",
      "execution_count": 244,
      "source": [
        "#df_consolidado.describe #Descriptivos Faltan\n",
        "pd.crosstab(index=df_consolidado['city'], columns=\"count\"),\n",
        "pd.crosstab(index=df_consolidado['offverb'], columns=\"count\")\n",
        "df_consolidado['offverb'].unique()"
      ],
      "outputs": [
        {
          "output_type": "execute_result",
          "data": {
            "text/plain": [
              "array([' ', 'V'], dtype=object)"
            ]
          },
          "metadata": {},
          "execution_count": 244
        }
      ],
      "metadata": {
        "colab": {
          "base_uri": "https://localhost:8080/"
        },
        "id": "c7jHmVVnjdlD",
        "outputId": "002207e8-d006-4421-9af6-81910b6bb721"
      }
    },
    {
      "cell_type": "code",
      "execution_count": 283,
      "source": [
        "msno.bar(df_consolidado); # El gráfico también nos ayuda a identificar que casi no existen valores perdidos"
      ],
      "outputs": [
        {
          "output_type": "display_data",
          "data": {
            "image/png": "[encoded data removed]",
            "text/plain": [
              "<Figure size 1800x3240 with 3 Axes>"
            ]
          },
          "metadata": {
            "needs_background": "light"
          }
        }
      ],
      "metadata": {
        "colab": {
          "base_uri": "https://localhost:8080/",
          "height": 390
        },
        "id": "whRepGFJc9o3",
        "outputId": "0f6761bf-945c-41b9-e894-6240adaf2d48"
      }
    },
    {
      "cell_type": "markdown",
      "source": [
        "# 3.- Preprocesamiento de datos (1 punto)\n",
        "Habrá notado que los datos parecen tener ciertas inconsistencias. Siga los siguientes pasos para limpiar este set:\n",
        "\n",
        "- 3.1 Obtenga una lista con todas las variables categoricas que tengan entre 2 y 99 categorías (inclusive). (hint: son las variables tipo categoricas"
      ],
      "metadata": {
        "id": "vN5eI7kXc9o4"
      }
    },
    {
      "cell_type": "code",
      "execution_count": 246,
      "source": [
        "df_categorical = pd.DataFrame()\n",
        "\n",
        "for column in df_consolidado.select_dtypes(include='object'):\n",
        "    if df_consolidado[column].nunique() >=2 and df_consolidado[column].nunique() <= 99:\n",
        "        df_categorical[column] = df_consolidado[column].astype('category')\n",
        "\n",
        "df_categorical.shape # Se logra encontrar 74 variables categoricas que cumplen con la condición solicitada."
      ],
      "outputs": [
        {
          "output_type": "execute_result",
          "data": {
            "text/plain": [
              "(11825, 74)"
            ]
          },
          "metadata": {},
          "execution_count": 246
        }
      ],
      "metadata": {
        "colab": {
          "base_uri": "https://localhost:8080/"
        },
        "id": "ea79qfhcc9o5",
        "outputId": "a2efd558-8ac2-4a9e-f05d-760dd3a43ed1"
      }
    },
    {
      "cell_type": "markdown",
      "source": [
        "- 3.2 Reemplaze las siguientes clases faltantes:\n",
        "\n",
        "  -Si alguna categoría de las columnas officrid,  o offverb es igual a \"\" cambielo a 'N' y en caso contrario dejelo como 'Y'\n",
        "  \n",
        "  -Si alguna categoría de las columnas sector, trhsloc o beat es igual a \"\" (o NA, dependiendo de como haya catgado la base de datos), cambielo a 'U' y en caso contrario mantenga su valor\n",
        "  \n",
        "Nota, los valores significan {N: No, Y: Yes, U: Unknown}"
      ],
      "metadata": {
        "id": "TBlJWDqoc9o5"
      }
    },
    {
      "cell_type": "code",
      "execution_count": 247,
      "source": [
        "df_categorical['officrid'] = df_categorical['officrid'].str.replace(' ','N', regex = True)\n",
        "# df_categorical['offshld'] = df_categorical['offshld'].str.replace(' ','N', regex = True)\n",
        "df_categorical['offverb'] = df_categorical['offverb'].str.replace(' ','N', regex = True)\n",
        "\n",
        "df_categorical['sector'] = df_categorical['sector'].str.replace(' ','U', regex = True)\n",
        "df_categorical['trhsloc'] = df_categorical['trhsloc'].str.replace(' ','U', regex = True)\n",
        "df_categorical['beat'] = df_categorical['beat'].str.replace(' ','U', regex = True)\n"
      ],
      "outputs": [],
      "metadata": {
        "id": "ZdvcKhn8c9o6"
      }
    },
    {
      "cell_type": "markdown",
      "source": [
        "- 3.3 Transforme las columnas ht_feet junto con ht_inch en una única columna (de la forma \"ht_feet.ht_inch\") llamado 'meters' (hint: transforme con el siguiente cálculo: metros = (pies+pulgadas)*0.3048)"
      ],
      "metadata": {
        "id": "07lMI6_4c9o6"
      }
    },
    {
      "cell_type": "code",
      "execution_count": 248,
      "source": [
        "def transform_metrics(feet, inch):\n",
        "    return (feet *  0.3048 + inch *0.0254)\n",
        "\n",
        "df_consolidado['meters'] = df_consolidado.apply(lambda x : transform_metrics(x['ht_feet'], x['ht_inch']), axis=1)\n",
        "df_consolidado['meters'] "
      ],
      "outputs": [
        {
          "output_type": "execute_result",
          "data": {
            "text/plain": [
              "0       1.7526\n",
              "1       1.6510\n",
              "2       1.9050\n",
              "3       1.6510\n",
              "4       1.6764\n",
              "         ...  \n",
              "6008    1.7780\n",
              "6009    1.7018\n",
              "6010    1.8288\n",
              "6011    1.8034\n",
              "6012    1.8542\n",
              "Name: meters, Length: 11825, dtype: float64"
            ]
          },
          "metadata": {},
          "execution_count": 248
        }
      ],
      "metadata": {
        "colab": {
          "base_uri": "https://localhost:8080/"
        },
        "id": "vbTlpKnyc9o6",
        "outputId": "3abb149b-ad7d-4a3a-a8ef-73e88d3b99d3"
      }
    },
    {
      "cell_type": "markdown",
      "source": [
        "- 3.4 Note que la fecha viene en un formato MMDDAAAA en la columna datestop. Genere 2 nuevas columnas llamadas month y year que solo tenga el mes y el año respectivamente.\n",
        "\n"
      ],
      "metadata": {
        "id": "cFsmCwt1c9o7"
      }
    },
    {
      "cell_type": "code",
      "execution_count": 249,
      "source": [
        "df_consolidado['fecha'] = pd.to_datetime(df_consolidado['datestop'], format= '%m%d%Y')\n",
        "df_consolidado['month'] = pd.DatetimeIndex(df_consolidado['fecha']).month\n",
        "df_consolidado['month'].head()"
      ],
      "outputs": [
        {
          "output_type": "execute_result",
          "data": {
            "text/plain": [
              "0     4\n",
              "1    10\n",
              "2    10\n",
              "3    12\n",
              "4    12\n",
              "Name: month, dtype: int64"
            ]
          },
          "metadata": {},
          "execution_count": 249
        }
      ],
      "metadata": {
        "colab": {
          "base_uri": "https://localhost:8080/"
        },
        "id": "u7wKPB4sc9o7",
        "outputId": "670ef785-a415-4007-9e43-a3cf2909ae87"
      }
    },
    {
      "cell_type": "markdown",
      "source": [
        "> Respuesta: Se crea la columna 'month' para almacenar el mes, sin embargo se omite la creación de la variable año que ya existe con el nombre 'Year'"
      ],
      "metadata": {
        "id": "p_K6AInWc9o8"
      }
    },
    {
      "cell_type": "markdown",
      "source": [
        " - 3.5 Filtre su DataFrame y solo deje las columnas seleccionadas en el punto 3.1, el mes, el año, los metros y la edad. Luego solo deje los registros cuyas edades esten entre 18 y 100 años, ambos inclusive."
      ],
      "metadata": {
        "id": "03eFIS-2c9o8"
      }
    },
    {
      "cell_type": "code",
      "execution_count": 250,
      "source": [
        "df_final = df_categorical\n",
        "df_final['month'] = df_consolidado['month']\n",
        "df_final['year'] = df_consolidado['year']\n",
        "df_final['meters'] = df_consolidado['meters']\n",
        "df_final['age'] = df_consolidado['age']\n",
        "\n",
        "df_final = df_final[(df_final['age']>=18) & (df_final['age']<= 100)]\n",
        "\n",
        "print(f\"Respuesta: El valor mínimo queda en {df_final['age'].min()}, el valor máximo queda en {df_final['age'].max()}. Con un total de {df_final.shape[0]} registros\")"
      ],
      "outputs": [
        {
          "output_type": "stream",
          "name": "stdout",
          "text": [
            "Respuesta: El valor mínimo queda en 18, el valor máximo queda en 100. Con un total de 10078 registros\n"
          ]
        }
      ],
      "metadata": {
        "colab": {
          "base_uri": "https://localhost:8080/"
        },
        "id": "TTKFVNzVc9o8",
        "outputId": "5456f5d5-dbc5-42a1-e214-9767bf4c0a19"
      }
    },
    {
      "cell_type": "code",
      "execution_count": 251,
      "source": [
        "df_final.head(10000) #Ejemplo DataFrame Obtenido"
      ],
      "outputs": [
        {
          "output_type": "execute_result",
          "data": {
            "text/html": [
              "<div>\n",
              "<style scoped>\n",
              "    .dataframe tbody tr th:only-of-type {\n",
              "        vertical-align: middle;\n",
              "    }\n",
              "\n",
              "    .dataframe tbody tr th {\n",
              "        vertical-align: top;\n",
              "    }\n",
              "\n",
              "    .dataframe thead th {\n",
              "        text-align: right;\n",
              "    }\n",
              "</style>\n",
              "<table border=\"1\" class=\"dataframe\">\n",
              "  <thead>\n",
              "    <tr style=\"text-align: right;\">\n",
              "      <th></th>\n",
              "      <th>recstat</th>\n",
              "      <th>inout</th>\n",
              "      <th>trhsloc</th>\n",
              "      <th>typeofid</th>\n",
              "      <th>explnstp</th>\n",
              "      <th>othpers</th>\n",
              "      <th>arstmade</th>\n",
              "      <th>sumissue</th>\n",
              "      <th>offunif</th>\n",
              "      <th>officrid</th>\n",
              "      <th>...</th>\n",
              "      <th>addrtyp</th>\n",
              "      <th>city</th>\n",
              "      <th>sector</th>\n",
              "      <th>beat</th>\n",
              "      <th>dettypcm</th>\n",
              "      <th>linecm</th>\n",
              "      <th>month</th>\n",
              "      <th>year</th>\n",
              "      <th>meters</th>\n",
              "      <th>age</th>\n",
              "    </tr>\n",
              "  </thead>\n",
              "  <tbody>\n",
              "    <tr>\n",
              "      <td>0</td>\n",
              "      <td>A</td>\n",
              "      <td>O</td>\n",
              "      <td>P</td>\n",
              "      <td>P</td>\n",
              "      <td>Y</td>\n",
              "      <td>N</td>\n",
              "      <td>N</td>\n",
              "      <td>N</td>\n",
              "      <td>Y</td>\n",
              "      <td>N</td>\n",
              "      <td>...</td>\n",
              "      <td>L</td>\n",
              "      <td>BRONX</td>\n",
              "      <td>G</td>\n",
              "      <td>7</td>\n",
              "      <td>CM</td>\n",
              "      <td>1</td>\n",
              "      <td>4</td>\n",
              "      <td>2009</td>\n",
              "      <td>1.7526</td>\n",
              "      <td>24</td>\n",
              "    </tr>\n",
              "    <tr>\n",
              "      <td>2</td>\n",
              "      <td>1</td>\n",
              "      <td>O</td>\n",
              "      <td>P</td>\n",
              "      <td>V</td>\n",
              "      <td>Y</td>\n",
              "      <td>N</td>\n",
              "      <td>N</td>\n",
              "      <td>N</td>\n",
              "      <td>N</td>\n",
              "      <td>N</td>\n",
              "      <td>...</td>\n",
              "      <td>L</td>\n",
              "      <td>BRONX</td>\n",
              "      <td>E</td>\n",
              "      <td>U</td>\n",
              "      <td>CM</td>\n",
              "      <td>1</td>\n",
              "      <td>10</td>\n",
              "      <td>2009</td>\n",
              "      <td>1.9050</td>\n",
              "      <td>21</td>\n",
              "    </tr>\n",
              "    <tr>\n",
              "      <td>3</td>\n",
              "      <td>A</td>\n",
              "      <td>O</td>\n",
              "      <td>P</td>\n",
              "      <td>P</td>\n",
              "      <td>Y</td>\n",
              "      <td>N</td>\n",
              "      <td>N</td>\n",
              "      <td>N</td>\n",
              "      <td>Y</td>\n",
              "      <td>N</td>\n",
              "      <td>...</td>\n",
              "      <td>L</td>\n",
              "      <td>BROOKLYN</td>\n",
              "      <td>J</td>\n",
              "      <td>4</td>\n",
              "      <td>CM</td>\n",
              "      <td>1</td>\n",
              "      <td>12</td>\n",
              "      <td>2009</td>\n",
              "      <td>1.6510</td>\n",
              "      <td>22</td>\n",
              "    </tr>\n",
              "    <tr>\n",
              "      <td>4</td>\n",
              "      <td>A</td>\n",
              "      <td>O</td>\n",
              "      <td>P</td>\n",
              "      <td>P</td>\n",
              "      <td>Y</td>\n",
              "      <td>Y</td>\n",
              "      <td>N</td>\n",
              "      <td>N</td>\n",
              "      <td>Y</td>\n",
              "      <td>N</td>\n",
              "      <td>...</td>\n",
              "      <td>L</td>\n",
              "      <td>QUEENS</td>\n",
              "      <td>H</td>\n",
              "      <td>U</td>\n",
              "      <td>CM</td>\n",
              "      <td>1</td>\n",
              "      <td>12</td>\n",
              "      <td>2009</td>\n",
              "      <td>1.6764</td>\n",
              "      <td>18</td>\n",
              "    </tr>\n",
              "    <tr>\n",
              "      <td>5</td>\n",
              "      <td>1</td>\n",
              "      <td>I</td>\n",
              "      <td>T</td>\n",
              "      <td>V</td>\n",
              "      <td>Y</td>\n",
              "      <td>N</td>\n",
              "      <td>N</td>\n",
              "      <td>N</td>\n",
              "      <td>N</td>\n",
              "      <td>I</td>\n",
              "      <td>...</td>\n",
              "      <td>L</td>\n",
              "      <td>MANHATTAN</td>\n",
              "      <td>F</td>\n",
              "      <td>16</td>\n",
              "      <td>CM</td>\n",
              "      <td>1</td>\n",
              "      <td>5</td>\n",
              "      <td>2009</td>\n",
              "      <td>1.7272</td>\n",
              "      <td>47</td>\n",
              "    </tr>\n",
              "    <tr>\n",
              "      <td>...</td>\n",
              "      <td>...</td>\n",
              "      <td>...</td>\n",
              "      <td>...</td>\n",
              "      <td>...</td>\n",
              "      <td>...</td>\n",
              "      <td>...</td>\n",
              "      <td>...</td>\n",
              "      <td>...</td>\n",
              "      <td>...</td>\n",
              "      <td>...</td>\n",
              "      <td>...</td>\n",
              "      <td>...</td>\n",
              "      <td>...</td>\n",
              "      <td>...</td>\n",
              "      <td>...</td>\n",
              "      <td>...</td>\n",
              "      <td>...</td>\n",
              "      <td>...</td>\n",
              "      <td>...</td>\n",
              "      <td>...</td>\n",
              "      <td>...</td>\n",
              "    </tr>\n",
              "    <tr>\n",
              "      <td>5915</td>\n",
              "      <td>A</td>\n",
              "      <td>I</td>\n",
              "      <td>P</td>\n",
              "      <td>V</td>\n",
              "      <td>Y</td>\n",
              "      <td>N</td>\n",
              "      <td>N</td>\n",
              "      <td>N</td>\n",
              "      <td>N</td>\n",
              "      <td>N</td>\n",
              "      <td>...</td>\n",
              "      <td>L</td>\n",
              "      <td>MANHATTAN</td>\n",
              "      <td>H</td>\n",
              "      <td>3</td>\n",
              "      <td>CM</td>\n",
              "      <td>1</td>\n",
              "      <td>2</td>\n",
              "      <td>2010</td>\n",
              "      <td>1.6002</td>\n",
              "      <td>36</td>\n",
              "    </tr>\n",
              "    <tr>\n",
              "      <td>5916</td>\n",
              "      <td>1</td>\n",
              "      <td>I</td>\n",
              "      <td>H</td>\n",
              "      <td>V</td>\n",
              "      <td>Y</td>\n",
              "      <td>N</td>\n",
              "      <td>N</td>\n",
              "      <td>N</td>\n",
              "      <td>Y</td>\n",
              "      <td>N</td>\n",
              "      <td>...</td>\n",
              "      <td>L</td>\n",
              "      <td>BROOKLYN</td>\n",
              "      <td>P</td>\n",
              "      <td>9</td>\n",
              "      <td>CM</td>\n",
              "      <td>1</td>\n",
              "      <td>5</td>\n",
              "      <td>2010</td>\n",
              "      <td>1.8034</td>\n",
              "      <td>20</td>\n",
              "    </tr>\n",
              "    <tr>\n",
              "      <td>5917</td>\n",
              "      <td>1</td>\n",
              "      <td>I</td>\n",
              "      <td>T</td>\n",
              "      <td>V</td>\n",
              "      <td>Y</td>\n",
              "      <td>N</td>\n",
              "      <td>N</td>\n",
              "      <td>N</td>\n",
              "      <td>N</td>\n",
              "      <td>N</td>\n",
              "      <td>...</td>\n",
              "      <td>L</td>\n",
              "      <td>MANHATTAN</td>\n",
              "      <td>E</td>\n",
              "      <td>U</td>\n",
              "      <td>CM</td>\n",
              "      <td>1</td>\n",
              "      <td>2</td>\n",
              "      <td>2010</td>\n",
              "      <td>1.7018</td>\n",
              "      <td>62</td>\n",
              "    </tr>\n",
              "    <tr>\n",
              "      <td>5918</td>\n",
              "      <td>A</td>\n",
              "      <td>O</td>\n",
              "      <td>P</td>\n",
              "      <td>O</td>\n",
              "      <td>Y</td>\n",
              "      <td>N</td>\n",
              "      <td>N</td>\n",
              "      <td>N</td>\n",
              "      <td>Y</td>\n",
              "      <td>N</td>\n",
              "      <td>...</td>\n",
              "      <td>L</td>\n",
              "      <td>BRONX</td>\n",
              "      <td>I</td>\n",
              "      <td>U</td>\n",
              "      <td>CM</td>\n",
              "      <td>1</td>\n",
              "      <td>9</td>\n",
              "      <td>2010</td>\n",
              "      <td>1.7018</td>\n",
              "      <td>20</td>\n",
              "    </tr>\n",
              "    <tr>\n",
              "      <td>5919</td>\n",
              "      <td>A</td>\n",
              "      <td>O</td>\n",
              "      <td>P</td>\n",
              "      <td>P</td>\n",
              "      <td>Y</td>\n",
              "      <td>N</td>\n",
              "      <td>N</td>\n",
              "      <td>N</td>\n",
              "      <td>Y</td>\n",
              "      <td>N</td>\n",
              "      <td>...</td>\n",
              "      <td>L</td>\n",
              "      <td>BROOKLYN</td>\n",
              "      <td>I</td>\n",
              "      <td>U</td>\n",
              "      <td>CM</td>\n",
              "      <td>1</td>\n",
              "      <td>3</td>\n",
              "      <td>2010</td>\n",
              "      <td>1.7272</td>\n",
              "      <td>47</td>\n",
              "    </tr>\n",
              "  </tbody>\n",
              "</table>\n",
              "<p>10000 rows × 78 columns</p>\n",
              "</div>"
            ],
            "text/plain": [
              "     recstat inout trhsloc typeofid explnstp othpers arstmade sumissue  \\\n",
              "0          A     O       P        P        Y       N        N        N   \n",
              "2          1     O       P        V        Y       N        N        N   \n",
              "3          A     O       P        P        Y       N        N        N   \n",
              "4          A     O       P        P        Y       Y        N        N   \n",
              "5          1     I       T        V        Y       N        N        N   \n",
              "...      ...   ...     ...      ...      ...     ...      ...      ...   \n",
              "5915       A     I       P        V        Y       N        N        N   \n",
              "5916       1     I       H        V        Y       N        N        N   \n",
              "5917       1     I       T        V        Y       N        N        N   \n",
              "5918       A     O       P        O        Y       N        N        N   \n",
              "5919       A     O       P        P        Y       N        N        N   \n",
              "\n",
              "     offunif officrid  ... addrtyp       city sector beat dettypcm linecm  \\\n",
              "0          Y        N  ...       L      BRONX      G    7       CM      1   \n",
              "2          N        N  ...       L      BRONX      E    U       CM      1   \n",
              "3          Y        N  ...       L   BROOKLYN      J    4       CM      1   \n",
              "4          Y        N  ...       L     QUEENS      H    U       CM      1   \n",
              "5          N        I  ...       L  MANHATTAN      F   16       CM      1   \n",
              "...      ...      ...  ...     ...        ...    ...  ...      ...    ...   \n",
              "5915       N        N  ...       L  MANHATTAN      H    3       CM      1   \n",
              "5916       Y        N  ...       L   BROOKLYN      P    9       CM      1   \n",
              "5917       N        N  ...       L  MANHATTAN      E    U       CM      1   \n",
              "5918       Y        N  ...       L      BRONX      I    U       CM      1   \n",
              "5919       Y        N  ...       L   BROOKLYN      I    U       CM      1   \n",
              "\n",
              "     month  year  meters age  \n",
              "0        4  2009  1.7526  24  \n",
              "2       10  2009  1.9050  21  \n",
              "3       12  2009  1.6510  22  \n",
              "4       12  2009  1.6764  18  \n",
              "5        5  2009  1.7272  47  \n",
              "...    ...   ...     ...  ..  \n",
              "5915     2  2010  1.6002  36  \n",
              "5916     5  2010  1.8034  20  \n",
              "5917     2  2010  1.7018  62  \n",
              "5918     9  2010  1.7018  20  \n",
              "5919     3  2010  1.7272  47  \n",
              "\n",
              "[10000 rows x 78 columns]"
            ]
          },
          "metadata": {},
          "execution_count": 251
        }
      ],
      "metadata": {
        "colab": {
          "base_uri": "https://localhost:8080/",
          "height": 435
        },
        "id": "u7wqXGDpu-hQ",
        "outputId": "8031a540-ae2e-496a-f9d8-89e316e5357d"
      }
    },
    {
      "cell_type": "code",
      "execution_count": 252,
      "source": [
        "df_final.shape # Aplicando el Filtro de edad y de variables, se tienen 10.078 Registros y 78 Variables"
      ],
      "outputs": [
        {
          "output_type": "execute_result",
          "data": {
            "text/plain": [
              "(10078, 78)"
            ]
          },
          "metadata": {},
          "execution_count": 252
        }
      ],
      "metadata": {
        "colab": {
          "base_uri": "https://localhost:8080/"
        },
        "id": "C7cKqMJIoOr9",
        "outputId": "8bfc72a1-ef76-4648-cc82-368eaeb470cd"
      }
    },
    {
      "cell_type": "code",
      "execution_count": 253,
      "source": [
        "df_final.isna().sum().sum() # Con los filtros aplicados Ahora no se tiene datos faltantes"
      ],
      "outputs": [
        {
          "output_type": "execute_result",
          "data": {
            "text/plain": [
              "0"
            ]
          },
          "metadata": {},
          "execution_count": 253
        }
      ],
      "metadata": {
        "colab": {
          "base_uri": "https://localhost:8080/"
        },
        "id": "C-JnpS11vZkK",
        "outputId": "42f4033e-4726-4c2f-d70e-58fe18a35d11"
      }
    },
    {
      "cell_type": "code",
      "execution_count": 254,
      "source": [
        "df_final.info() #Tipo de datos y según se puede observar no existen datos Faltantes"
      ],
      "outputs": [
        {
          "output_type": "stream",
          "name": "stdout",
          "text": [
            "<class 'pandas.core.frame.DataFrame'>\n",
            "Int64Index: 10078 entries, 0 to 6012\n",
            "Data columns (total 78 columns):\n",
            "recstat     10078 non-null category\n",
            "inout       10078 non-null category\n",
            "trhsloc     10078 non-null object\n",
            "typeofid    10078 non-null category\n",
            "explnstp    10078 non-null category\n",
            "othpers     10078 non-null category\n",
            "arstmade    10078 non-null category\n",
            "sumissue    10078 non-null category\n",
            "offunif     10078 non-null category\n",
            "officrid    10078 non-null object\n",
            "frisked     10078 non-null category\n",
            "searched    10078 non-null category\n",
            "contrabn    10078 non-null category\n",
            "pistol      10078 non-null category\n",
            "riflshot    10078 non-null category\n",
            "asltweap    10078 non-null category\n",
            "knifcuti    10078 non-null category\n",
            "othrweap    10078 non-null category\n",
            "pf_hands    10078 non-null category\n",
            "pf_wall     10078 non-null category\n",
            "pf_grnd     10078 non-null category\n",
            "pf_drwep    10078 non-null category\n",
            "pf_ptwep    10078 non-null category\n",
            "pf_baton    10078 non-null category\n",
            "pf_hcuff    10078 non-null category\n",
            "pf_pepsp    10078 non-null category\n",
            "pf_other    10078 non-null category\n",
            "radio       10078 non-null category\n",
            "ac_rept     10078 non-null category\n",
            "ac_inves    10078 non-null category\n",
            "rf_vcrim    10078 non-null category\n",
            "rf_othsw    10078 non-null category\n",
            "ac_proxm    10078 non-null category\n",
            "rf_attir    10078 non-null category\n",
            "cs_objcs    10078 non-null category\n",
            "cs_descr    10078 non-null category\n",
            "cs_casng    10078 non-null category\n",
            "cs_lkout    10078 non-null category\n",
            "rf_vcact    10078 non-null category\n",
            "cs_cloth    10078 non-null category\n",
            "cs_drgtr    10078 non-null category\n",
            "ac_evasv    10078 non-null category\n",
            "ac_assoc    10078 non-null category\n",
            "cs_furtv    10078 non-null category\n",
            "rf_rfcmp    10078 non-null category\n",
            "ac_cgdir    10078 non-null category\n",
            "rf_verbl    10078 non-null category\n",
            "cs_vcrim    10078 non-null category\n",
            "cs_bulge    10078 non-null category\n",
            "cs_other    10078 non-null category\n",
            "ac_incid    10078 non-null category\n",
            "ac_time     10078 non-null category\n",
            "rf_knowl    10078 non-null category\n",
            "ac_stsnd    10078 non-null category\n",
            "ac_other    10078 non-null category\n",
            "sb_hdobj    10078 non-null category\n",
            "sb_outln    10078 non-null category\n",
            "sb_admis    10078 non-null category\n",
            "sb_other    10078 non-null category\n",
            "rf_furt     10078 non-null category\n",
            "rf_bulg     10078 non-null category\n",
            "offverb     10078 non-null object\n",
            "offshld     10078 non-null category\n",
            "sex         10078 non-null category\n",
            "race        10078 non-null category\n",
            "haircolr    10078 non-null category\n",
            "eyecolor    10078 non-null category\n",
            "build       10078 non-null category\n",
            "addrtyp     10078 non-null category\n",
            "city        10078 non-null category\n",
            "sector      10078 non-null object\n",
            "beat        10078 non-null object\n",
            "dettypcm    10078 non-null category\n",
            "linecm      10078 non-null category\n",
            "month       10078 non-null int64\n",
            "year        10078 non-null int64\n",
            "meters      10078 non-null float64\n",
            "age         10078 non-null int64\n",
            "dtypes: category(69), float64(1), int64(3), object(5)\n",
            "memory usage: 1.4+ MB\n"
          ]
        }
      ],
      "metadata": {
        "colab": {
          "base_uri": "https://localhost:8080/"
        },
        "id": "mTGUoAFLouGQ",
        "outputId": "380de883-8f69-4ced-f8a8-d5d4a970a6f0"
      }
    },
    {
      "cell_type": "markdown",
      "source": [
        "# 4.- Análisis exploratorio (1 punto)\n",
        "\n",
        "- 4.1 Estudie la variable respuesta por si sola (arstmade), puede ayudarse de un gráfico. Comente"
      ],
      "metadata": {
        "id": "0kPAyPELc9o8"
      }
    },
    {
      "cell_type": "code",
      "execution_count": 255,
      "source": [
        "df_final['arstmade'].value_counts().plot(kind = 'bar', color = '#CD4C46')\n",
        "plt.title(\"Resultados Procedimientos Policiales\")\n",
        "plt.xlabel(\"Variable arstmade\")\n",
        "plt.ylabel(\"Cantidad Procedimientos Policiales\");\n",
        "\n",
        "\n",
        "df_final['arstmade'].value_counts()"
      ],
      "outputs": [
        {
          "output_type": "execute_result",
          "data": {
            "text/plain": [
              "N    9432\n",
              "Y     646\n",
              "Name: arstmade, dtype: int64"
            ]
          },
          "metadata": {},
          "execution_count": 255
        },
        {
          "output_type": "display_data",
          "data": {
            "image/png": "[encoded data removed]",
            "text/plain": [
              "<Figure size 936x576 with 1 Axes>"
            ]
          },
          "metadata": {
            "needs_background": "light"
          }
        }
      ],
      "metadata": {
        "colab": {
          "base_uri": "https://localhost:8080/",
          "height": 343
        },
        "id": "TeYCnOjCc9o9",
        "outputId": "b962192c-2e29-4758-fc02-881418f7c054"
      }
    },
    {
      "cell_type": "code",
      "execution_count": 256,
      "source": [
        "df_final['arstmade'].value_counts().plot(kind='pie', autopct=\"%.1f%%\", colors = ['#a3acff','#f9bc86'], labels=[\"No Arrestados\", \" Arrestados\"] ,title='Proporción entre los Si (Y) y No (N) Arrestados');\n"
      ],
      "outputs": [
        {
          "output_type": "display_data",
          "data": {
            "image/png": "[encoded data removed]",
            "text/plain": [
              "<Figure size 936x576 with 1 Axes>"
            ]
          },
          "metadata": {}
        }
      ],
      "metadata": {
        "colab": {
          "base_uri": "https://localhost:8080/",
          "height": 264
        },
        "id": "9ePiNNSI7BZL",
        "outputId": "4e74e781-9a99-45ba-fdc0-81b13371e0af"
      }
    },
    {
      "cell_type": "markdown",
      "source": [
        "RESPUESTA: Podemos ver que la variable está *desbalanceada* hacia el evento negativo por lo que podemos deducir que en la mayor cantidad de los procedimientos policiales terminaron sin arresto. "
      ],
      "metadata": {
        "id": "4gyUi7egc9o9"
      }
    },
    {
      "cell_type": "markdown",
      "source": [
        "- 4.2.- Estudie la relación de la variable respuesta en comportamiento con la raza (race), comente."
      ],
      "metadata": {
        "id": "zZFp0PPlc9o9"
      }
    },
    {
      "cell_type": "code",
      "execution_count": 257,
      "source": [
        "df_arstmade_race = pd.DataFrame()\n",
        "df_arstmade_race = df_final[['arstmade','race']].copy()\n",
        "pd.crosstab(df_arstmade_race['arstmade'], df_arstmade_race['race'])\n"
      ],
      "outputs": [
        {
          "output_type": "execute_result",
          "data": {
            "text/html": [
              "<div>\n",
              "<style scoped>\n",
              "    .dataframe tbody tr th:only-of-type {\n",
              "        vertical-align: middle;\n",
              "    }\n",
              "\n",
              "    .dataframe tbody tr th {\n",
              "        vertical-align: top;\n",
              "    }\n",
              "\n",
              "    .dataframe thead th {\n",
              "        text-align: right;\n",
              "    }\n",
              "</style>\n",
              "<table border=\"1\" class=\"dataframe\">\n",
              "  <thead>\n",
              "    <tr style=\"text-align: right;\">\n",
              "      <th>race</th>\n",
              "      <th>A</th>\n",
              "      <th>B</th>\n",
              "      <th>I</th>\n",
              "      <th>P</th>\n",
              "      <th>Q</th>\n",
              "      <th>U</th>\n",
              "      <th>W</th>\n",
              "      <th>Z</th>\n",
              "    </tr>\n",
              "    <tr>\n",
              "      <th>arstmade</th>\n",
              "      <th></th>\n",
              "      <th></th>\n",
              "      <th></th>\n",
              "      <th></th>\n",
              "      <th></th>\n",
              "      <th></th>\n",
              "      <th></th>\n",
              "      <th></th>\n",
              "    </tr>\n",
              "  </thead>\n",
              "  <tbody>\n",
              "    <tr>\n",
              "      <td>N</td>\n",
              "      <td>279</td>\n",
              "      <td>5006</td>\n",
              "      <td>37</td>\n",
              "      <td>540</td>\n",
              "      <td>2368</td>\n",
              "      <td>66</td>\n",
              "      <td>902</td>\n",
              "      <td>234</td>\n",
              "    </tr>\n",
              "    <tr>\n",
              "      <td>Y</td>\n",
              "      <td>20</td>\n",
              "      <td>336</td>\n",
              "      <td>0</td>\n",
              "      <td>35</td>\n",
              "      <td>164</td>\n",
              "      <td>3</td>\n",
              "      <td>72</td>\n",
              "      <td>16</td>\n",
              "    </tr>\n",
              "  </tbody>\n",
              "</table>\n",
              "</div>"
            ],
            "text/plain": [
              "race        A     B   I    P     Q   U    W    Z\n",
              "arstmade                                        \n",
              "N         279  5006  37  540  2368  66  902  234\n",
              "Y          20   336   0   35   164   3   72   16"
            ]
          },
          "metadata": {},
          "execution_count": 257
        }
      ],
      "metadata": {
        "colab": {
          "base_uri": "https://localhost:8080/",
          "height": 142
        },
        "id": "m5AaTwoMc9o9",
        "outputId": "c0b9148a-d771-4dc3-a7aa-8782413cac43"
      }
    },
    {
      "cell_type": "code",
      "execution_count": 258,
      "source": [
        "pd.crosstab(df_arstmade_race['arstmade'], df_arstmade_race['race']).plot.bar(figsize=(10,8))\n",
        "plt.title(\"Variable Target VS Raza\")\n",
        "plt.xlabel(\"Variable arstmade (Target)\")\n",
        "plt.ylabel(\"Cantidad Procedimientos Policiales\");"
      ],
      "outputs": [
        {
          "output_type": "display_data",
          "data": {
            "image/png": "[encoded data removed]",
            "text/plain": [
              "<Figure size 720x576 with 1 Axes>"
            ]
          },
          "metadata": {
            "needs_background": "light"
          }
        }
      ],
      "metadata": {
        "colab": {
          "base_uri": "https://localhost:8080/",
          "height": 510
        },
        "id": "ydUZ1zrg_joi",
        "outputId": "696c620e-0252-4bed-b49d-498e8362c83f"
      }
    },
    {
      "cell_type": "code",
      "execution_count": 259,
      "source": [
        "plt.rcParams['figure.figsize'] = (20,8)\n",
        "props = lambda key: {'color': 'pink' if 'Y' in key else '#b5ffb9'}\n",
        "mosaic(df_final, ['arstmade','race'],gap=0.01,horizontal=False,ax=None,properties=props);"
      ],
      "outputs": [
        {
          "output_type": "display_data",
          "data": {
            "image/png": "[encoded data removed]",
            "text/plain": [
              "<Figure size 1440x576 with 3 Axes>"
            ]
          },
          "metadata": {
            "needs_background": "light"
          }
        }
      ],
      "metadata": {
        "colab": {
          "base_uri": "https://localhost:8080/",
          "height": 511
        },
        "id": "QoVBcmtJbpM3",
        "outputId": "a6e75725-099f-470a-e46f-bd7bafadfa1a"
      }
    },
    {
      "cell_type": "markdown",
      "source": [
        "- 4.3.a Estudie la relación de la variable respuesta en comportamiento con la sexo (sex), comente."
      ],
      "metadata": {
        "id": "eigDx5sjc9o-"
      }
    },
    {
      "cell_type": "code",
      "execution_count": 260,
      "source": [
        "df_arstmade_sex = pd.DataFrame()\n",
        "df_arstmade_sex = df_final[['arstmade','sex']].copy()\n",
        "pd.crosstab(df_arstmade_sex['arstmade'], df_arstmade_sex['sex'])"
      ],
      "outputs": [
        {
          "output_type": "execute_result",
          "data": {
            "text/html": [
              "<div>\n",
              "<style scoped>\n",
              "    .dataframe tbody tr th:only-of-type {\n",
              "        vertical-align: middle;\n",
              "    }\n",
              "\n",
              "    .dataframe tbody tr th {\n",
              "        vertical-align: top;\n",
              "    }\n",
              "\n",
              "    .dataframe thead th {\n",
              "        text-align: right;\n",
              "    }\n",
              "</style>\n",
              "<table border=\"1\" class=\"dataframe\">\n",
              "  <thead>\n",
              "    <tr style=\"text-align: right;\">\n",
              "      <th>sex</th>\n",
              "      <th>F</th>\n",
              "      <th>M</th>\n",
              "      <th>Z</th>\n",
              "    </tr>\n",
              "    <tr>\n",
              "      <th>arstmade</th>\n",
              "      <th></th>\n",
              "      <th></th>\n",
              "      <th></th>\n",
              "    </tr>\n",
              "  </thead>\n",
              "  <tbody>\n",
              "    <tr>\n",
              "      <td>N</td>\n",
              "      <td>586</td>\n",
              "      <td>8704</td>\n",
              "      <td>142</td>\n",
              "    </tr>\n",
              "    <tr>\n",
              "      <td>Y</td>\n",
              "      <td>64</td>\n",
              "      <td>574</td>\n",
              "      <td>8</td>\n",
              "    </tr>\n",
              "  </tbody>\n",
              "</table>\n",
              "</div>"
            ],
            "text/plain": [
              "sex         F     M    Z\n",
              "arstmade                \n",
              "N         586  8704  142\n",
              "Y          64   574    8"
            ]
          },
          "metadata": {},
          "execution_count": 260
        }
      ],
      "metadata": {
        "colab": {
          "base_uri": "https://localhost:8080/",
          "height": 269
        },
        "id": "LicmN5xgI-CC",
        "outputId": "aff09ef3-0d07-4b6c-884c-95a0cbe98ca1"
      }
    },
    {
      "cell_type": "code",
      "execution_count": 261,
      "source": [
        "plt.rcParams['figure.figsize'] = (13,8)\n",
        "props = lambda key: {'color': 'pink' if 'Y' in key else '#b5ffb9'}\n",
        "mosaic(df_final, ['arstmade','sex'],gap=0.01,horizontal=False,ax=None, properties=props);\n",
        "\n",
        "\n"
      ],
      "outputs": [
        {
          "output_type": "display_data",
          "data": {
            "image/png": "[encoded data removed]",
            "text/plain": [
              "<Figure size 936x576 with 3 Axes>"
            ]
          },
          "metadata": {
            "needs_background": "light"
          }
        }
      ],
      "metadata": {
        "colab": {
          "base_uri": "https://localhost:8080/",
          "height": 269
        },
        "id": "s7QwLJ0Wc9o-",
        "outputId": "b1acdf6a-48b0-49a7-b6f1-17adafdc7c3c"
      }
    },
    {
      "cell_type": "markdown",
      "source": [
        "- 4.3.b Estudie la relación de la variable respuesta en comportamiento con la sexo y la edad en su conjunto, comente."
      ],
      "metadata": {
        "id": "RPr9HaSqc9o-"
      }
    },
    {
      "cell_type": "code",
      "execution_count": 262,
      "source": [
        "pd.crosstab([df_final['arstmade'],df_final['sex']],df_final['age'])"
      ],
      "outputs": [
        {
          "output_type": "execute_result",
          "data": {
            "text/html": [
              "<div>\n",
              "<style scoped>\n",
              "    .dataframe tbody tr th:only-of-type {\n",
              "        vertical-align: middle;\n",
              "    }\n",
              "\n",
              "    .dataframe tbody tr th {\n",
              "        vertical-align: top;\n",
              "    }\n",
              "\n",
              "    .dataframe thead th {\n",
              "        text-align: right;\n",
              "    }\n",
              "</style>\n",
              "<table border=\"1\" class=\"dataframe\">\n",
              "  <thead>\n",
              "    <tr style=\"text-align: right;\">\n",
              "      <th></th>\n",
              "      <th>age</th>\n",
              "      <th>18</th>\n",
              "      <th>19</th>\n",
              "      <th>20</th>\n",
              "      <th>21</th>\n",
              "      <th>22</th>\n",
              "      <th>23</th>\n",
              "      <th>24</th>\n",
              "      <th>25</th>\n",
              "      <th>26</th>\n",
              "      <th>27</th>\n",
              "      <th>...</th>\n",
              "      <th>69</th>\n",
              "      <th>70</th>\n",
              "      <th>71</th>\n",
              "      <th>72</th>\n",
              "      <th>73</th>\n",
              "      <th>74</th>\n",
              "      <th>81</th>\n",
              "      <th>83</th>\n",
              "      <th>99</th>\n",
              "      <th>100</th>\n",
              "    </tr>\n",
              "    <tr>\n",
              "      <th>arstmade</th>\n",
              "      <th>sex</th>\n",
              "      <th></th>\n",
              "      <th></th>\n",
              "      <th></th>\n",
              "      <th></th>\n",
              "      <th></th>\n",
              "      <th></th>\n",
              "      <th></th>\n",
              "      <th></th>\n",
              "      <th></th>\n",
              "      <th></th>\n",
              "      <th></th>\n",
              "      <th></th>\n",
              "      <th></th>\n",
              "      <th></th>\n",
              "      <th></th>\n",
              "      <th></th>\n",
              "      <th></th>\n",
              "      <th></th>\n",
              "      <th></th>\n",
              "      <th></th>\n",
              "      <th></th>\n",
              "    </tr>\n",
              "  </thead>\n",
              "  <tbody>\n",
              "    <tr>\n",
              "      <td rowspan=\"3\" valign=\"top\">N</td>\n",
              "      <td>F</td>\n",
              "      <td>33</td>\n",
              "      <td>35</td>\n",
              "      <td>29</td>\n",
              "      <td>36</td>\n",
              "      <td>23</td>\n",
              "      <td>24</td>\n",
              "      <td>30</td>\n",
              "      <td>21</td>\n",
              "      <td>18</td>\n",
              "      <td>18</td>\n",
              "      <td>...</td>\n",
              "      <td>0</td>\n",
              "      <td>0</td>\n",
              "      <td>0</td>\n",
              "      <td>0</td>\n",
              "      <td>0</td>\n",
              "      <td>0</td>\n",
              "      <td>1</td>\n",
              "      <td>0</td>\n",
              "      <td>0</td>\n",
              "      <td>0</td>\n",
              "    </tr>\n",
              "    <tr>\n",
              "      <td>M</td>\n",
              "      <td>596</td>\n",
              "      <td>648</td>\n",
              "      <td>658</td>\n",
              "      <td>527</td>\n",
              "      <td>431</td>\n",
              "      <td>405</td>\n",
              "      <td>382</td>\n",
              "      <td>402</td>\n",
              "      <td>317</td>\n",
              "      <td>294</td>\n",
              "      <td>...</td>\n",
              "      <td>5</td>\n",
              "      <td>3</td>\n",
              "      <td>1</td>\n",
              "      <td>4</td>\n",
              "      <td>3</td>\n",
              "      <td>1</td>\n",
              "      <td>0</td>\n",
              "      <td>2</td>\n",
              "      <td>15</td>\n",
              "      <td>1</td>\n",
              "    </tr>\n",
              "    <tr>\n",
              "      <td>Z</td>\n",
              "      <td>7</td>\n",
              "      <td>14</td>\n",
              "      <td>14</td>\n",
              "      <td>10</td>\n",
              "      <td>9</td>\n",
              "      <td>4</td>\n",
              "      <td>3</td>\n",
              "      <td>3</td>\n",
              "      <td>9</td>\n",
              "      <td>5</td>\n",
              "      <td>...</td>\n",
              "      <td>0</td>\n",
              "      <td>0</td>\n",
              "      <td>0</td>\n",
              "      <td>0</td>\n",
              "      <td>0</td>\n",
              "      <td>0</td>\n",
              "      <td>0</td>\n",
              "      <td>0</td>\n",
              "      <td>1</td>\n",
              "      <td>0</td>\n",
              "    </tr>\n",
              "    <tr>\n",
              "      <td rowspan=\"3\" valign=\"top\">Y</td>\n",
              "      <td>F</td>\n",
              "      <td>3</td>\n",
              "      <td>0</td>\n",
              "      <td>8</td>\n",
              "      <td>3</td>\n",
              "      <td>3</td>\n",
              "      <td>5</td>\n",
              "      <td>4</td>\n",
              "      <td>0</td>\n",
              "      <td>3</td>\n",
              "      <td>1</td>\n",
              "      <td>...</td>\n",
              "      <td>0</td>\n",
              "      <td>0</td>\n",
              "      <td>0</td>\n",
              "      <td>0</td>\n",
              "      <td>0</td>\n",
              "      <td>0</td>\n",
              "      <td>0</td>\n",
              "      <td>0</td>\n",
              "      <td>0</td>\n",
              "      <td>0</td>\n",
              "    </tr>\n",
              "    <tr>\n",
              "      <td>M</td>\n",
              "      <td>53</td>\n",
              "      <td>28</td>\n",
              "      <td>39</td>\n",
              "      <td>36</td>\n",
              "      <td>26</td>\n",
              "      <td>27</td>\n",
              "      <td>26</td>\n",
              "      <td>21</td>\n",
              "      <td>17</td>\n",
              "      <td>14</td>\n",
              "      <td>...</td>\n",
              "      <td>0</td>\n",
              "      <td>0</td>\n",
              "      <td>0</td>\n",
              "      <td>0</td>\n",
              "      <td>0</td>\n",
              "      <td>0</td>\n",
              "      <td>0</td>\n",
              "      <td>0</td>\n",
              "      <td>1</td>\n",
              "      <td>0</td>\n",
              "    </tr>\n",
              "    <tr>\n",
              "      <td>Z</td>\n",
              "      <td>0</td>\n",
              "      <td>0</td>\n",
              "      <td>0</td>\n",
              "      <td>0</td>\n",
              "      <td>0</td>\n",
              "      <td>0</td>\n",
              "      <td>1</td>\n",
              "      <td>1</td>\n",
              "      <td>0</td>\n",
              "      <td>1</td>\n",
              "      <td>...</td>\n",
              "      <td>0</td>\n",
              "      <td>0</td>\n",
              "      <td>0</td>\n",
              "      <td>0</td>\n",
              "      <td>0</td>\n",
              "      <td>0</td>\n",
              "      <td>0</td>\n",
              "      <td>0</td>\n",
              "      <td>0</td>\n",
              "      <td>0</td>\n",
              "    </tr>\n",
              "  </tbody>\n",
              "</table>\n",
              "<p>6 rows × 61 columns</p>\n",
              "</div>"
            ],
            "text/plain": [
              "age           18   19   20   21   22   23   24   25   26   27   ...  69   70   \\\n",
              "arstmade sex                                                    ...             \n",
              "N        F     33   35   29   36   23   24   30   21   18   18  ...    0    0   \n",
              "         M    596  648  658  527  431  405  382  402  317  294  ...    5    3   \n",
              "         Z      7   14   14   10    9    4    3    3    9    5  ...    0    0   \n",
              "Y        F      3    0    8    3    3    5    4    0    3    1  ...    0    0   \n",
              "         M     53   28   39   36   26   27   26   21   17   14  ...    0    0   \n",
              "         Z      0    0    0    0    0    0    1    1    0    1  ...    0    0   \n",
              "\n",
              "age           71   72   73   74   81   83   99   100  \n",
              "arstmade sex                                          \n",
              "N        F      0    0    0    0    1    0    0    0  \n",
              "         M      1    4    3    1    0    2   15    1  \n",
              "         Z      0    0    0    0    0    0    1    0  \n",
              "Y        F      0    0    0    0    0    0    0    0  \n",
              "         M      0    0    0    0    0    0    1    0  \n",
              "         Z      0    0    0    0    0    0    0    0  \n",
              "\n",
              "[6 rows x 61 columns]"
            ]
          },
          "metadata": {},
          "execution_count": 262
        }
      ],
      "metadata": {
        "colab": {
          "base_uri": "https://localhost:8080/",
          "height": 285
        },
        "id": "mj7AvBKPc9o-",
        "outputId": "ed94a134-31bd-4311-bceb-a02b626b09fc"
      }
    },
    {
      "cell_type": "code",
      "execution_count": 263,
      "source": [
        "fig_dims = (14, 9)\n",
        "fig, ax = plt.subplots(figsize=fig_dims)\n",
        "sns.boxplot(x=\"race\", y=\"age\", hue='arstmade', data=df_final);\n",
        "plt.legend(bbox_to_anchor=(1.0, 1.0));"
      ],
      "outputs": [
        {
          "output_type": "display_data",
          "data": {
            "image/png": "[encoded data removed]",
            "text/plain": [
              "<Figure size 1008x648 with 1 Axes>"
            ]
          },
          "metadata": {
            "needs_background": "light"
          }
        }
      ],
      "metadata": {
        "colab": {
          "base_uri": "https://localhost:8080/",
          "height": 551
        },
        "id": "bBOTkFTHeGYV",
        "outputId": "65a85cef-7583-45d8-92f5-bb947390a0ca"
      }
    },
    {
      "cell_type": "markdown",
      "source": [
        "- 4.4 Recodifique la variable respuesta a 1 y 0. Donde 0 es N y 1 es Y"
      ],
      "metadata": {
        "id": "VlIA1hmvc9o-"
      }
    },
    {
      "cell_type": "code",
      "execution_count": 264,
      "source": [
        "df_final['arstmade'] = df_final['arstmade'].apply(lambda x : 1 if x == 'Y' else 0);\n",
        "df_final['arstmade'].unique()"
      ],
      "outputs": [
        {
          "output_type": "execute_result",
          "data": {
            "text/plain": [
              "[0, 1]\n",
              "Categories (2, int64): [0, 1]"
            ]
          },
          "metadata": {},
          "execution_count": 264
        }
      ],
      "metadata": {
        "colab": {
          "base_uri": "https://localhost:8080/"
        },
        "id": "H8rGu4j2c9o-",
        "outputId": "182209a2-b836-488d-dc78-acbfb694a584"
      }
    },
    {
      "cell_type": "markdown",
      "source": [
        "- 4.5 Muestre en un gráfico la probabilidad que un individuo sea arrestado,condicional al género y a la raza. ¿qué implicancias éticas tienen algunas conclusiones de lo que observa?."
      ],
      "metadata": {
        "id": "NjW9HiSuc9o_"
      }
    },
    {
      "cell_type": "code",
      "execution_count": 265,
      "source": [
        "# Considerando y Filtrando todos los Arrestados\n",
        "df_arrestados = df_final[(df_final['arstmade']==1)]\n",
        "df_arrestados = df_arrestados[['sex','race']]\n",
        "pd.crosstab(df_arrestados['sex'],df_arrestados['race']).apply(lambda r: r/len(df_arrestados), axis=1)"
      ],
      "outputs": [
        {
          "output_type": "execute_result",
          "data": {
            "text/html": [
              "<div>\n",
              "<style scoped>\n",
              "    .dataframe tbody tr th:only-of-type {\n",
              "        vertical-align: middle;\n",
              "    }\n",
              "\n",
              "    .dataframe tbody tr th {\n",
              "        vertical-align: top;\n",
              "    }\n",
              "\n",
              "    .dataframe thead th {\n",
              "        text-align: right;\n",
              "    }\n",
              "</style>\n",
              "<table border=\"1\" class=\"dataframe\">\n",
              "  <thead>\n",
              "    <tr style=\"text-align: right;\">\n",
              "      <th>race</th>\n",
              "      <th>A</th>\n",
              "      <th>B</th>\n",
              "      <th>P</th>\n",
              "      <th>Q</th>\n",
              "      <th>U</th>\n",
              "      <th>W</th>\n",
              "      <th>Z</th>\n",
              "    </tr>\n",
              "    <tr>\n",
              "      <th>sex</th>\n",
              "      <th></th>\n",
              "      <th></th>\n",
              "      <th></th>\n",
              "      <th></th>\n",
              "      <th></th>\n",
              "      <th></th>\n",
              "      <th></th>\n",
              "    </tr>\n",
              "  </thead>\n",
              "  <tbody>\n",
              "    <tr>\n",
              "      <td>F</td>\n",
              "      <td>0.001548</td>\n",
              "      <td>0.060372</td>\n",
              "      <td>0.004644</td>\n",
              "      <td>0.017028</td>\n",
              "      <td>0.000000</td>\n",
              "      <td>0.015480</td>\n",
              "      <td>0.000000</td>\n",
              "    </tr>\n",
              "    <tr>\n",
              "      <td>M</td>\n",
              "      <td>0.029412</td>\n",
              "      <td>0.459752</td>\n",
              "      <td>0.049536</td>\n",
              "      <td>0.233746</td>\n",
              "      <td>0.003096</td>\n",
              "      <td>0.095975</td>\n",
              "      <td>0.017028</td>\n",
              "    </tr>\n",
              "    <tr>\n",
              "      <td>Z</td>\n",
              "      <td>0.000000</td>\n",
              "      <td>0.000000</td>\n",
              "      <td>0.000000</td>\n",
              "      <td>0.003096</td>\n",
              "      <td>0.001548</td>\n",
              "      <td>0.000000</td>\n",
              "      <td>0.007740</td>\n",
              "    </tr>\n",
              "  </tbody>\n",
              "</table>\n",
              "</div>"
            ],
            "text/plain": [
              "race         A         B         P         Q         U         W         Z\n",
              "sex                                                                       \n",
              "F     0.001548  0.060372  0.004644  0.017028  0.000000  0.015480  0.000000\n",
              "M     0.029412  0.459752  0.049536  0.233746  0.003096  0.095975  0.017028\n",
              "Z     0.000000  0.000000  0.000000  0.003096  0.001548  0.000000  0.007740"
            ]
          },
          "metadata": {},
          "execution_count": 265
        }
      ],
      "metadata": {
        "colab": {
          "base_uri": "https://localhost:8080/",
          "height": 172
        },
        "id": "DGfm6EyzQlUe",
        "outputId": "3c70d553-c844-45a0-d8a2-a2d4ec259e93"
      }
    },
    {
      "cell_type": "code",
      "execution_count": 266,
      "source": [
        "pd.crosstab(df_arrestados['sex'],df_arrestados['race']).apply(lambda r: r/len(df_arrestados), axis=1)"
      ],
      "outputs": [
        {
          "output_type": "execute_result",
          "data": {
            "text/html": [
              "<div>\n",
              "<style scoped>\n",
              "    .dataframe tbody tr th:only-of-type {\n",
              "        vertical-align: middle;\n",
              "    }\n",
              "\n",
              "    .dataframe tbody tr th {\n",
              "        vertical-align: top;\n",
              "    }\n",
              "\n",
              "    .dataframe thead th {\n",
              "        text-align: right;\n",
              "    }\n",
              "</style>\n",
              "<table border=\"1\" class=\"dataframe\">\n",
              "  <thead>\n",
              "    <tr style=\"text-align: right;\">\n",
              "      <th>race</th>\n",
              "      <th>A</th>\n",
              "      <th>B</th>\n",
              "      <th>P</th>\n",
              "      <th>Q</th>\n",
              "      <th>U</th>\n",
              "      <th>W</th>\n",
              "      <th>Z</th>\n",
              "    </tr>\n",
              "    <tr>\n",
              "      <th>sex</th>\n",
              "      <th></th>\n",
              "      <th></th>\n",
              "      <th></th>\n",
              "      <th></th>\n",
              "      <th></th>\n",
              "      <th></th>\n",
              "      <th></th>\n",
              "    </tr>\n",
              "  </thead>\n",
              "  <tbody>\n",
              "    <tr>\n",
              "      <td>F</td>\n",
              "      <td>0.001548</td>\n",
              "      <td>0.060372</td>\n",
              "      <td>0.004644</td>\n",
              "      <td>0.017028</td>\n",
              "      <td>0.000000</td>\n",
              "      <td>0.015480</td>\n",
              "      <td>0.000000</td>\n",
              "    </tr>\n",
              "    <tr>\n",
              "      <td>M</td>\n",
              "      <td>0.029412</td>\n",
              "      <td>0.459752</td>\n",
              "      <td>0.049536</td>\n",
              "      <td>0.233746</td>\n",
              "      <td>0.003096</td>\n",
              "      <td>0.095975</td>\n",
              "      <td>0.017028</td>\n",
              "    </tr>\n",
              "    <tr>\n",
              "      <td>Z</td>\n",
              "      <td>0.000000</td>\n",
              "      <td>0.000000</td>\n",
              "      <td>0.000000</td>\n",
              "      <td>0.003096</td>\n",
              "      <td>0.001548</td>\n",
              "      <td>0.000000</td>\n",
              "      <td>0.007740</td>\n",
              "    </tr>\n",
              "  </tbody>\n",
              "</table>\n",
              "</div>"
            ],
            "text/plain": [
              "race         A         B         P         Q         U         W         Z\n",
              "sex                                                                       \n",
              "F     0.001548  0.060372  0.004644  0.017028  0.000000  0.015480  0.000000\n",
              "M     0.029412  0.459752  0.049536  0.233746  0.003096  0.095975  0.017028\n",
              "Z     0.000000  0.000000  0.000000  0.003096  0.001548  0.000000  0.007740"
            ]
          },
          "metadata": {},
          "execution_count": 266
        }
      ],
      "metadata": {
        "colab": {
          "base_uri": "https://localhost:8080/",
          "height": 172
        },
        "id": "RKOmOdvFYtbw",
        "outputId": "a7027fd8-b749-485e-8609-0985c7738bf0"
      }
    },
    {
      "cell_type": "markdown",
      "source": [
        "# 5.- Determinar si el procedimiento policial concluirá en alguna acción violenta. (0.5 puntos)\n",
        "\n",
        "Los atributos que tienen el prefijo pf (`['pf_hands'],['pf_wall'], ['pf_grnd'], ['pf_drwep'], ['pf_ptwep'],['pf_baton'],['pf_hcuff'], ['pf_pepsp'] y ['pf_other']`) indican si hubo fuerza fisica utilizada por el oficial al momento del procedimiento, con la marca 'Y'. \n",
        "\n",
        "Genere una nueva variable llamada 'violencia' la cual sea 1 si en cualquiera de las 9 variables pf hubo alguna 'Y', y 0 en otro caso. Luego indique el porcentaje de casos que terminaron con violencia."
      ],
      "metadata": {
        "id": "gOdc3aefc9o_"
      }
    },
    {
      "cell_type": "markdown",
      "source": [],
      "metadata": {
        "id": "bAal9o5nc9pA"
      }
    },
    {
      "cell_type": "code",
      "execution_count": 268,
      "source": [
        "col_violence = ['pf_hands','pf_wall', 'pf_grnd', 'pf_drwep', 'pf_ptwep','pf_baton','pf_hcuff', 'pf_pepsp', 'pf_other']\n",
        "\n",
        "# verificar que todas las columnas mencionadas estén con el valor N  y si alguno es Y retornar un 1 si no retornar 0\n",
        "df_final['violence'] = (df_final[col_violence] == \"Y\").any(axis=\"columns\")\n",
        "df_final['violence'] = df_final['violence'].apply(lambda x : 1 if x == True else 0)\n",
        "df_final['violence'].unique()"
      ],
      "outputs": [
        {
          "output_type": "execute_result",
          "data": {
            "text/plain": [
              "array([0, 1])"
            ]
          },
          "metadata": {},
          "execution_count": 268
        }
      ],
      "metadata": {
        "id": "b_znM4__c9pA"
      }
    },
    {
      "cell_type": "code",
      "execution_count": 269,
      "source": [
        "pd.crosstab(index=df_final['violence'], columns=\"count\")"
      ],
      "outputs": [
        {
          "output_type": "execute_result",
          "data": {
            "text/html": [
              "<div>\n",
              "<style scoped>\n",
              "    .dataframe tbody tr th:only-of-type {\n",
              "        vertical-align: middle;\n",
              "    }\n",
              "\n",
              "    .dataframe tbody tr th {\n",
              "        vertical-align: top;\n",
              "    }\n",
              "\n",
              "    .dataframe thead th {\n",
              "        text-align: right;\n",
              "    }\n",
              "</style>\n",
              "<table border=\"1\" class=\"dataframe\">\n",
              "  <thead>\n",
              "    <tr style=\"text-align: right;\">\n",
              "      <th>col_0</th>\n",
              "      <th>count</th>\n",
              "    </tr>\n",
              "    <tr>\n",
              "      <th>violence</th>\n",
              "      <th></th>\n",
              "    </tr>\n",
              "  </thead>\n",
              "  <tbody>\n",
              "    <tr>\n",
              "      <td>0</td>\n",
              "      <td>7641</td>\n",
              "    </tr>\n",
              "    <tr>\n",
              "      <td>1</td>\n",
              "      <td>2437</td>\n",
              "    </tr>\n",
              "  </tbody>\n",
              "</table>\n",
              "</div>"
            ],
            "text/plain": [
              "col_0     count\n",
              "violence       \n",
              "0          7641\n",
              "1          2437"
            ]
          },
          "metadata": {},
          "execution_count": 269
        }
      ],
      "metadata": {
        "colab": {
          "base_uri": "https://localhost:8080/",
          "height": 142
        },
        "id": "8iYYCxmPOzG8",
        "outputId": "f6e94d94-f889-4463-cd83-348f49eab432"
      }
    },
    {
      "cell_type": "code",
      "execution_count": 270,
      "source": [
        "df_final['violence'].value_counts().plot(kind='pie', autopct=\"%.1f%%\",colors = ['#a3acff','#b5ffb9'],labels=[\"No Existe Violencia\", \" Existe Violencia\"], title='Porcentaje de casos que Terminaron con Violencia');\n"
      ],
      "outputs": [
        {
          "output_type": "display_data",
          "data": {
            "image/png": "[encoded data removed]",
            "text/plain": [
              "<Figure size 936x576 with 1 Axes>"
            ]
          },
          "metadata": {}
        }
      ],
      "metadata": {
        "colab": {
          "base_uri": "https://localhost:8080/",
          "height": 264
        },
        "id": "tZ4frnShPF_U",
        "outputId": "465f9d6b-c9d4-436c-9ee2-512a2d0911f2"
      }
    },
    {
      "cell_type": "markdown",
      "source": [
        "# 6.- Modelación (2 puntos)\n",
        "\n",
        "- 6.1 Genere las variables dummies correspondientes (Tenga cuidado de no utilizar variables que expliquen lo mismo, ¡recuerde que acaba de crear una variable a partir de otras!, además recuerde que creó una variable numérica que es una categoría :) ). Luego genere los sets de train-test  utilizando el año 2009 para entrenar, y el año 2010 para testear. (0.5 pts)"
      ],
      "metadata": {
        "id": "7UPkM7mgc9pA"
      }
    },
    {
      "cell_type": "markdown",
      "source": [
        "- 6.2  Entrene 4 modelos de clásificación y reporte el mejor modelo bajo algún criterio. Utilice validación cruzada de al menos 2 folds para probar distintos hiperparámetros para cada modelo (puede probar cualquier hiperparámetro, pero debe ser al menos uno). (1.5 pts)"
      ],
      "metadata": {
        "id": "3tv7jCS8c9pA"
      }
    },
    {
      "cell_type": "code",
      "execution_count": 271,
      "source": [
        "df_final.drop(columns=col_violence, inplace= True)\n",
        "df_final"
      ],
      "outputs": [
        {
          "output_type": "execute_result",
          "data": {
            "text/html": [
              "<div>\n",
              "<style scoped>\n",
              "    .dataframe tbody tr th:only-of-type {\n",
              "        vertical-align: middle;\n",
              "    }\n",
              "\n",
              "    .dataframe tbody tr th {\n",
              "        vertical-align: top;\n",
              "    }\n",
              "\n",
              "    .dataframe thead th {\n",
              "        text-align: right;\n",
              "    }\n",
              "</style>\n",
              "<table border=\"1\" class=\"dataframe\">\n",
              "  <thead>\n",
              "    <tr style=\"text-align: right;\">\n",
              "      <th></th>\n",
              "      <th>recstat</th>\n",
              "      <th>inout</th>\n",
              "      <th>trhsloc</th>\n",
              "      <th>typeofid</th>\n",
              "      <th>explnstp</th>\n",
              "      <th>othpers</th>\n",
              "      <th>arstmade</th>\n",
              "      <th>sumissue</th>\n",
              "      <th>offunif</th>\n",
              "      <th>officrid</th>\n",
              "      <th>...</th>\n",
              "      <th>city</th>\n",
              "      <th>sector</th>\n",
              "      <th>beat</th>\n",
              "      <th>dettypcm</th>\n",
              "      <th>linecm</th>\n",
              "      <th>month</th>\n",
              "      <th>year</th>\n",
              "      <th>meters</th>\n",
              "      <th>age</th>\n",
              "      <th>violence</th>\n",
              "    </tr>\n",
              "  </thead>\n",
              "  <tbody>\n",
              "    <tr>\n",
              "      <td>0</td>\n",
              "      <td>A</td>\n",
              "      <td>O</td>\n",
              "      <td>P</td>\n",
              "      <td>P</td>\n",
              "      <td>Y</td>\n",
              "      <td>N</td>\n",
              "      <td>0</td>\n",
              "      <td>N</td>\n",
              "      <td>Y</td>\n",
              "      <td>N</td>\n",
              "      <td>...</td>\n",
              "      <td>BRONX</td>\n",
              "      <td>G</td>\n",
              "      <td>7</td>\n",
              "      <td>CM</td>\n",
              "      <td>1</td>\n",
              "      <td>4</td>\n",
              "      <td>2009</td>\n",
              "      <td>1.7526</td>\n",
              "      <td>24</td>\n",
              "      <td>0</td>\n",
              "    </tr>\n",
              "    <tr>\n",
              "      <td>2</td>\n",
              "      <td>1</td>\n",
              "      <td>O</td>\n",
              "      <td>P</td>\n",
              "      <td>V</td>\n",
              "      <td>Y</td>\n",
              "      <td>N</td>\n",
              "      <td>0</td>\n",
              "      <td>N</td>\n",
              "      <td>N</td>\n",
              "      <td>N</td>\n",
              "      <td>...</td>\n",
              "      <td>BRONX</td>\n",
              "      <td>E</td>\n",
              "      <td>U</td>\n",
              "      <td>CM</td>\n",
              "      <td>1</td>\n",
              "      <td>10</td>\n",
              "      <td>2009</td>\n",
              "      <td>1.9050</td>\n",
              "      <td>21</td>\n",
              "      <td>0</td>\n",
              "    </tr>\n",
              "    <tr>\n",
              "      <td>3</td>\n",
              "      <td>A</td>\n",
              "      <td>O</td>\n",
              "      <td>P</td>\n",
              "      <td>P</td>\n",
              "      <td>Y</td>\n",
              "      <td>N</td>\n",
              "      <td>0</td>\n",
              "      <td>N</td>\n",
              "      <td>Y</td>\n",
              "      <td>N</td>\n",
              "      <td>...</td>\n",
              "      <td>BROOKLYN</td>\n",
              "      <td>J</td>\n",
              "      <td>4</td>\n",
              "      <td>CM</td>\n",
              "      <td>1</td>\n",
              "      <td>12</td>\n",
              "      <td>2009</td>\n",
              "      <td>1.6510</td>\n",
              "      <td>22</td>\n",
              "      <td>0</td>\n",
              "    </tr>\n",
              "    <tr>\n",
              "      <td>4</td>\n",
              "      <td>A</td>\n",
              "      <td>O</td>\n",
              "      <td>P</td>\n",
              "      <td>P</td>\n",
              "      <td>Y</td>\n",
              "      <td>Y</td>\n",
              "      <td>0</td>\n",
              "      <td>N</td>\n",
              "      <td>Y</td>\n",
              "      <td>N</td>\n",
              "      <td>...</td>\n",
              "      <td>QUEENS</td>\n",
              "      <td>H</td>\n",
              "      <td>U</td>\n",
              "      <td>CM</td>\n",
              "      <td>1</td>\n",
              "      <td>12</td>\n",
              "      <td>2009</td>\n",
              "      <td>1.6764</td>\n",
              "      <td>18</td>\n",
              "      <td>0</td>\n",
              "    </tr>\n",
              "    <tr>\n",
              "      <td>5</td>\n",
              "      <td>1</td>\n",
              "      <td>I</td>\n",
              "      <td>T</td>\n",
              "      <td>V</td>\n",
              "      <td>Y</td>\n",
              "      <td>N</td>\n",
              "      <td>0</td>\n",
              "      <td>N</td>\n",
              "      <td>N</td>\n",
              "      <td>I</td>\n",
              "      <td>...</td>\n",
              "      <td>MANHATTAN</td>\n",
              "      <td>F</td>\n",
              "      <td>16</td>\n",
              "      <td>CM</td>\n",
              "      <td>1</td>\n",
              "      <td>5</td>\n",
              "      <td>2009</td>\n",
              "      <td>1.7272</td>\n",
              "      <td>47</td>\n",
              "      <td>0</td>\n",
              "    </tr>\n",
              "    <tr>\n",
              "      <td>...</td>\n",
              "      <td>...</td>\n",
              "      <td>...</td>\n",
              "      <td>...</td>\n",
              "      <td>...</td>\n",
              "      <td>...</td>\n",
              "      <td>...</td>\n",
              "      <td>...</td>\n",
              "      <td>...</td>\n",
              "      <td>...</td>\n",
              "      <td>...</td>\n",
              "      <td>...</td>\n",
              "      <td>...</td>\n",
              "      <td>...</td>\n",
              "      <td>...</td>\n",
              "      <td>...</td>\n",
              "      <td>...</td>\n",
              "      <td>...</td>\n",
              "      <td>...</td>\n",
              "      <td>...</td>\n",
              "      <td>...</td>\n",
              "      <td>...</td>\n",
              "    </tr>\n",
              "    <tr>\n",
              "      <td>6007</td>\n",
              "      <td>1</td>\n",
              "      <td>O</td>\n",
              "      <td>P</td>\n",
              "      <td>P</td>\n",
              "      <td>Y</td>\n",
              "      <td>Y</td>\n",
              "      <td>0</td>\n",
              "      <td>N</td>\n",
              "      <td>N</td>\n",
              "      <td>N</td>\n",
              "      <td>...</td>\n",
              "      <td>QUEENS</td>\n",
              "      <td>A</td>\n",
              "      <td>U</td>\n",
              "      <td>CM</td>\n",
              "      <td>1</td>\n",
              "      <td>6</td>\n",
              "      <td>2010</td>\n",
              "      <td>1.6764</td>\n",
              "      <td>21</td>\n",
              "      <td>0</td>\n",
              "    </tr>\n",
              "    <tr>\n",
              "      <td>6008</td>\n",
              "      <td>1</td>\n",
              "      <td>O</td>\n",
              "      <td>H</td>\n",
              "      <td>P</td>\n",
              "      <td>Y</td>\n",
              "      <td>N</td>\n",
              "      <td>0</td>\n",
              "      <td>N</td>\n",
              "      <td>Y</td>\n",
              "      <td>N</td>\n",
              "      <td>...</td>\n",
              "      <td>BROOKLYN</td>\n",
              "      <td>I</td>\n",
              "      <td>U</td>\n",
              "      <td>CM</td>\n",
              "      <td>1</td>\n",
              "      <td>9</td>\n",
              "      <td>2010</td>\n",
              "      <td>1.7780</td>\n",
              "      <td>20</td>\n",
              "      <td>1</td>\n",
              "    </tr>\n",
              "    <tr>\n",
              "      <td>6009</td>\n",
              "      <td>A</td>\n",
              "      <td>O</td>\n",
              "      <td>P</td>\n",
              "      <td>R</td>\n",
              "      <td>Y</td>\n",
              "      <td>N</td>\n",
              "      <td>0</td>\n",
              "      <td>N</td>\n",
              "      <td>N</td>\n",
              "      <td>N</td>\n",
              "      <td>...</td>\n",
              "      <td>BROOKLYN</td>\n",
              "      <td>A</td>\n",
              "      <td>U</td>\n",
              "      <td>CM</td>\n",
              "      <td>1</td>\n",
              "      <td>7</td>\n",
              "      <td>2010</td>\n",
              "      <td>1.7018</td>\n",
              "      <td>23</td>\n",
              "      <td>0</td>\n",
              "    </tr>\n",
              "    <tr>\n",
              "      <td>6011</td>\n",
              "      <td>1</td>\n",
              "      <td>O</td>\n",
              "      <td>P</td>\n",
              "      <td>P</td>\n",
              "      <td>Y</td>\n",
              "      <td>N</td>\n",
              "      <td>0</td>\n",
              "      <td>N</td>\n",
              "      <td>N</td>\n",
              "      <td>I</td>\n",
              "      <td>...</td>\n",
              "      <td>QUEENS</td>\n",
              "      <td>E</td>\n",
              "      <td>U</td>\n",
              "      <td>CM</td>\n",
              "      <td>1</td>\n",
              "      <td>11</td>\n",
              "      <td>2010</td>\n",
              "      <td>1.8034</td>\n",
              "      <td>19</td>\n",
              "      <td>1</td>\n",
              "    </tr>\n",
              "    <tr>\n",
              "      <td>6012</td>\n",
              "      <td>1</td>\n",
              "      <td>I</td>\n",
              "      <td>T</td>\n",
              "      <td>P</td>\n",
              "      <td>Y</td>\n",
              "      <td>N</td>\n",
              "      <td>0</td>\n",
              "      <td>N</td>\n",
              "      <td>Y</td>\n",
              "      <td>N</td>\n",
              "      <td>...</td>\n",
              "      <td>MANHATTAN</td>\n",
              "      <td>H</td>\n",
              "      <td>11</td>\n",
              "      <td>CM</td>\n",
              "      <td>1</td>\n",
              "      <td>10</td>\n",
              "      <td>2010</td>\n",
              "      <td>1.8542</td>\n",
              "      <td>36</td>\n",
              "      <td>0</td>\n",
              "    </tr>\n",
              "  </tbody>\n",
              "</table>\n",
              "<p>10078 rows × 70 columns</p>\n",
              "</div>"
            ],
            "text/plain": [
              "     recstat inout trhsloc typeofid explnstp othpers arstmade sumissue  \\\n",
              "0          A     O       P        P        Y       N        0        N   \n",
              "2          1     O       P        V        Y       N        0        N   \n",
              "3          A     O       P        P        Y       N        0        N   \n",
              "4          A     O       P        P        Y       Y        0        N   \n",
              "5          1     I       T        V        Y       N        0        N   \n",
              "...      ...   ...     ...      ...      ...     ...      ...      ...   \n",
              "6007       1     O       P        P        Y       Y        0        N   \n",
              "6008       1     O       H        P        Y       N        0        N   \n",
              "6009       A     O       P        R        Y       N        0        N   \n",
              "6011       1     O       P        P        Y       N        0        N   \n",
              "6012       1     I       T        P        Y       N        0        N   \n",
              "\n",
              "     offunif officrid  ...       city sector beat dettypcm linecm month  year  \\\n",
              "0          Y        N  ...      BRONX      G    7       CM      1     4  2009   \n",
              "2          N        N  ...      BRONX      E    U       CM      1    10  2009   \n",
              "3          Y        N  ...   BROOKLYN      J    4       CM      1    12  2009   \n",
              "4          Y        N  ...     QUEENS      H    U       CM      1    12  2009   \n",
              "5          N        I  ...  MANHATTAN      F   16       CM      1     5  2009   \n",
              "...      ...      ...  ...        ...    ...  ...      ...    ...   ...   ...   \n",
              "6007       N        N  ...     QUEENS      A    U       CM      1     6  2010   \n",
              "6008       Y        N  ...   BROOKLYN      I    U       CM      1     9  2010   \n",
              "6009       N        N  ...   BROOKLYN      A    U       CM      1     7  2010   \n",
              "6011       N        I  ...     QUEENS      E    U       CM      1    11  2010   \n",
              "6012       Y        N  ...  MANHATTAN      H   11       CM      1    10  2010   \n",
              "\n",
              "      meters age violence  \n",
              "0     1.7526  24        0  \n",
              "2     1.9050  21        0  \n",
              "3     1.6510  22        0  \n",
              "4     1.6764  18        0  \n",
              "5     1.7272  47        0  \n",
              "...      ...  ..      ...  \n",
              "6007  1.6764  21        0  \n",
              "6008  1.7780  20        1  \n",
              "6009  1.7018  23        0  \n",
              "6011  1.8034  19        1  \n",
              "6012  1.8542  36        0  \n",
              "\n",
              "[10078 rows x 70 columns]"
            ]
          },
          "metadata": {},
          "execution_count": 271
        }
      ],
      "metadata": {
        "id": "zHG4QrHgc9pA"
      }
    },
    {
      "cell_type": "code",
      "execution_count": 272,
      "source": [
        "df_y = df_final['arstmade']\n",
        "y_train = df_final[df_final['year'] == 2009]['arstmade']\n",
        "y_test= df_final[df_final['year'] == 2010]['arstmade']\n",
        "df_x = df_final.drop(columns = 'arstmade')\n",
        "df_dummies = pd.get_dummies(df_x, drop_first= True)\n",
        "X_train = df_dummies[df_dummies['year']== 2009]\n",
        "X_test = df_dummies[df_dummies['year']== 2010]\n",
        "df_final.head()"
      ],
      "outputs": [
        {
          "output_type": "execute_result",
          "data": {
            "text/html": [
              "<div>\n",
              "<style scoped>\n",
              "    .dataframe tbody tr th:only-of-type {\n",
              "        vertical-align: middle;\n",
              "    }\n",
              "\n",
              "    .dataframe tbody tr th {\n",
              "        vertical-align: top;\n",
              "    }\n",
              "\n",
              "    .dataframe thead th {\n",
              "        text-align: right;\n",
              "    }\n",
              "</style>\n",
              "<table border=\"1\" class=\"dataframe\">\n",
              "  <thead>\n",
              "    <tr style=\"text-align: right;\">\n",
              "      <th></th>\n",
              "      <th>recstat</th>\n",
              "      <th>inout</th>\n",
              "      <th>trhsloc</th>\n",
              "      <th>typeofid</th>\n",
              "      <th>explnstp</th>\n",
              "      <th>othpers</th>\n",
              "      <th>arstmade</th>\n",
              "      <th>sumissue</th>\n",
              "      <th>offunif</th>\n",
              "      <th>officrid</th>\n",
              "      <th>...</th>\n",
              "      <th>city</th>\n",
              "      <th>sector</th>\n",
              "      <th>beat</th>\n",
              "      <th>dettypcm</th>\n",
              "      <th>linecm</th>\n",
              "      <th>month</th>\n",
              "      <th>year</th>\n",
              "      <th>meters</th>\n",
              "      <th>age</th>\n",
              "      <th>violence</th>\n",
              "    </tr>\n",
              "  </thead>\n",
              "  <tbody>\n",
              "    <tr>\n",
              "      <td>0</td>\n",
              "      <td>A</td>\n",
              "      <td>O</td>\n",
              "      <td>P</td>\n",
              "      <td>P</td>\n",
              "      <td>Y</td>\n",
              "      <td>N</td>\n",
              "      <td>0</td>\n",
              "      <td>N</td>\n",
              "      <td>Y</td>\n",
              "      <td>N</td>\n",
              "      <td>...</td>\n",
              "      <td>BRONX</td>\n",
              "      <td>G</td>\n",
              "      <td>7</td>\n",
              "      <td>CM</td>\n",
              "      <td>1</td>\n",
              "      <td>4</td>\n",
              "      <td>2009</td>\n",
              "      <td>1.7526</td>\n",
              "      <td>24</td>\n",
              "      <td>0</td>\n",
              "    </tr>\n",
              "    <tr>\n",
              "      <td>2</td>\n",
              "      <td>1</td>\n",
              "      <td>O</td>\n",
              "      <td>P</td>\n",
              "      <td>V</td>\n",
              "      <td>Y</td>\n",
              "      <td>N</td>\n",
              "      <td>0</td>\n",
              "      <td>N</td>\n",
              "      <td>N</td>\n",
              "      <td>N</td>\n",
              "      <td>...</td>\n",
              "      <td>BRONX</td>\n",
              "      <td>E</td>\n",
              "      <td>U</td>\n",
              "      <td>CM</td>\n",
              "      <td>1</td>\n",
              "      <td>10</td>\n",
              "      <td>2009</td>\n",
              "      <td>1.9050</td>\n",
              "      <td>21</td>\n",
              "      <td>0</td>\n",
              "    </tr>\n",
              "    <tr>\n",
              "      <td>3</td>\n",
              "      <td>A</td>\n",
              "      <td>O</td>\n",
              "      <td>P</td>\n",
              "      <td>P</td>\n",
              "      <td>Y</td>\n",
              "      <td>N</td>\n",
              "      <td>0</td>\n",
              "      <td>N</td>\n",
              "      <td>Y</td>\n",
              "      <td>N</td>\n",
              "      <td>...</td>\n",
              "      <td>BROOKLYN</td>\n",
              "      <td>J</td>\n",
              "      <td>4</td>\n",
              "      <td>CM</td>\n",
              "      <td>1</td>\n",
              "      <td>12</td>\n",
              "      <td>2009</td>\n",
              "      <td>1.6510</td>\n",
              "      <td>22</td>\n",
              "      <td>0</td>\n",
              "    </tr>\n",
              "    <tr>\n",
              "      <td>4</td>\n",
              "      <td>A</td>\n",
              "      <td>O</td>\n",
              "      <td>P</td>\n",
              "      <td>P</td>\n",
              "      <td>Y</td>\n",
              "      <td>Y</td>\n",
              "      <td>0</td>\n",
              "      <td>N</td>\n",
              "      <td>Y</td>\n",
              "      <td>N</td>\n",
              "      <td>...</td>\n",
              "      <td>QUEENS</td>\n",
              "      <td>H</td>\n",
              "      <td>U</td>\n",
              "      <td>CM</td>\n",
              "      <td>1</td>\n",
              "      <td>12</td>\n",
              "      <td>2009</td>\n",
              "      <td>1.6764</td>\n",
              "      <td>18</td>\n",
              "      <td>0</td>\n",
              "    </tr>\n",
              "    <tr>\n",
              "      <td>5</td>\n",
              "      <td>1</td>\n",
              "      <td>I</td>\n",
              "      <td>T</td>\n",
              "      <td>V</td>\n",
              "      <td>Y</td>\n",
              "      <td>N</td>\n",
              "      <td>0</td>\n",
              "      <td>N</td>\n",
              "      <td>N</td>\n",
              "      <td>I</td>\n",
              "      <td>...</td>\n",
              "      <td>MANHATTAN</td>\n",
              "      <td>F</td>\n",
              "      <td>16</td>\n",
              "      <td>CM</td>\n",
              "      <td>1</td>\n",
              "      <td>5</td>\n",
              "      <td>2009</td>\n",
              "      <td>1.7272</td>\n",
              "      <td>47</td>\n",
              "      <td>0</td>\n",
              "    </tr>\n",
              "  </tbody>\n",
              "</table>\n",
              "<p>5 rows × 70 columns</p>\n",
              "</div>"
            ],
            "text/plain": [
              "  recstat inout trhsloc typeofid explnstp othpers arstmade sumissue offunif  \\\n",
              "0       A     O       P        P        Y       N        0        N       Y   \n",
              "2       1     O       P        V        Y       N        0        N       N   \n",
              "3       A     O       P        P        Y       N        0        N       Y   \n",
              "4       A     O       P        P        Y       Y        0        N       Y   \n",
              "5       1     I       T        V        Y       N        0        N       N   \n",
              "\n",
              "  officrid  ...       city sector beat dettypcm linecm month  year  meters  \\\n",
              "0        N  ...      BRONX      G    7       CM      1     4  2009  1.7526   \n",
              "2        N  ...      BRONX      E    U       CM      1    10  2009  1.9050   \n",
              "3        N  ...   BROOKLYN      J    4       CM      1    12  2009  1.6510   \n",
              "4        N  ...     QUEENS      H    U       CM      1    12  2009  1.6764   \n",
              "5        I  ...  MANHATTAN      F   16       CM      1     5  2009  1.7272   \n",
              "\n",
              "  age violence  \n",
              "0  24        0  \n",
              "2  21        0  \n",
              "3  22        0  \n",
              "4  18        0  \n",
              "5  47        0  \n",
              "\n",
              "[5 rows x 70 columns]"
            ]
          },
          "metadata": {},
          "execution_count": 272
        }
      ],
      "metadata": {}
    },
    {
      "cell_type": "markdown",
      "source": [
        "### Supporting Vector Machine"
      ],
      "metadata": {}
    },
    {
      "cell_type": "code",
      "execution_count": 273,
      "source": [
        "# Se define los hiperparametros a revisar\n",
        "param_grid = { 'kernel':['poly','rbf'],'C': [2, 5, 10, 15] }\n",
        "\n",
        "# Definir el modelo de Validacion Cruzada\n",
        "svm_model_cv = GridSearchCV(SVC(), param_grid, cv=2) \n",
        "svm_model_cv.fit(X_train, y_train)\n",
        "\n",
        "# Veamos cuales son los mejores hiperparametros\n",
        "svm_model_cv.best_params_"
      ],
      "outputs": [
        {
          "output_type": "execute_result",
          "data": {
            "text/plain": [
              "{'C': 2, 'kernel': 'poly'}"
            ]
          },
          "metadata": {},
          "execution_count": 273
        }
      ],
      "metadata": {}
    },
    {
      "cell_type": "code",
      "execution_count": 274,
      "source": [
        "# Se construye el modelo Supporting Vector Machine \n",
        "svm_model = SVC() #rbf, sigmoid, poly # 0,0001 < gamma < 10, 0,1 < C < 100\n",
        "svm_model.fit(X_train, y_train)\n",
        "\n",
        "# Se predice\n",
        "svm_pred = svm_model.predict(X_test)\n",
        "svm_pred_cv = svm_model_cv.predict(X_test)\n",
        "#repotes\n",
        "print(classification_report(y_test, svm_pred))\n",
        "pd.crosstab(y_test, svm_pred) \n",
        "\n",
        "print(classification_report(y_test, svm_pred_cv))\n",
        "pd.crosstab(y_test, svm_pred_cv) \n"
      ],
      "outputs": [
        {
          "output_type": "stream",
          "name": "stdout",
          "text": [
            "              precision    recall  f1-score   support\n",
            "\n",
            "           0       0.93      1.00      0.97      4749\n",
            "           1       0.00      0.00      0.00       342\n",
            "\n",
            "    accuracy                           0.93      5091\n",
            "   macro avg       0.47      0.50      0.48      5091\n",
            "weighted avg       0.87      0.93      0.90      5091\n",
            "\n",
            "              precision    recall  f1-score   support\n",
            "\n",
            "           0       0.93      1.00      0.97      4749\n",
            "           1       0.00      0.00      0.00       342\n",
            "\n",
            "    accuracy                           0.93      5091\n",
            "   macro avg       0.47      0.50      0.48      5091\n",
            "weighted avg       0.87      0.93      0.90      5091\n",
            "\n"
          ]
        },
        {
          "output_type": "execute_result",
          "data": {
            "text/html": [
              "<div>\n",
              "<style scoped>\n",
              "    .dataframe tbody tr th:only-of-type {\n",
              "        vertical-align: middle;\n",
              "    }\n",
              "\n",
              "    .dataframe tbody tr th {\n",
              "        vertical-align: top;\n",
              "    }\n",
              "\n",
              "    .dataframe thead th {\n",
              "        text-align: right;\n",
              "    }\n",
              "</style>\n",
              "<table border=\"1\" class=\"dataframe\">\n",
              "  <thead>\n",
              "    <tr style=\"text-align: right;\">\n",
              "      <th>col_0</th>\n",
              "      <th>0</th>\n",
              "    </tr>\n",
              "    <tr>\n",
              "      <th>arstmade</th>\n",
              "      <th></th>\n",
              "    </tr>\n",
              "  </thead>\n",
              "  <tbody>\n",
              "    <tr>\n",
              "      <td>0</td>\n",
              "      <td>4749</td>\n",
              "    </tr>\n",
              "    <tr>\n",
              "      <td>1</td>\n",
              "      <td>342</td>\n",
              "    </tr>\n",
              "  </tbody>\n",
              "</table>\n",
              "</div>"
            ],
            "text/plain": [
              "col_0        0\n",
              "arstmade      \n",
              "0         4749\n",
              "1          342"
            ]
          },
          "metadata": {},
          "execution_count": 274
        }
      ],
      "metadata": {}
    },
    {
      "cell_type": "markdown",
      "source": [
        "### Naive Bayes"
      ],
      "metadata": {}
    },
    {
      "cell_type": "code",
      "execution_count": 275,
      "source": [
        "# Se construye el modelo Naive Bayes\n",
        "modelo_nb = MultinomialNB(fit_prior=False) ##High=0 Low=1 Medium=2\n",
        "modelo_nb.fit(X_train, y_train) # no es necesario la estandarización\n",
        "\n",
        "# Se predice\n",
        "nb_pred = modelo_nb.predict(X_test)\n",
        "\n",
        "#repotes\n",
        "print(classification_report(y_test, nb_pred))\n",
        "pd.crosstab(y_test, nb_pred)"
      ],
      "outputs": [
        {
          "output_type": "stream",
          "name": "stdout",
          "text": [
            "              precision    recall  f1-score   support\n",
            "\n",
            "           0       0.99      0.43      0.60      4749\n",
            "           1       0.11      0.96      0.19       342\n",
            "\n",
            "    accuracy                           0.46      5091\n",
            "   macro avg       0.55      0.69      0.40      5091\n",
            "weighted avg       0.93      0.46      0.57      5091\n",
            "\n"
          ]
        },
        {
          "output_type": "execute_result",
          "data": {
            "text/html": [
              "<div>\n",
              "<style scoped>\n",
              "    .dataframe tbody tr th:only-of-type {\n",
              "        vertical-align: middle;\n",
              "    }\n",
              "\n",
              "    .dataframe tbody tr th {\n",
              "        vertical-align: top;\n",
              "    }\n",
              "\n",
              "    .dataframe thead th {\n",
              "        text-align: right;\n",
              "    }\n",
              "</style>\n",
              "<table border=\"1\" class=\"dataframe\">\n",
              "  <thead>\n",
              "    <tr style=\"text-align: right;\">\n",
              "      <th>col_0</th>\n",
              "      <th>0</th>\n",
              "      <th>1</th>\n",
              "    </tr>\n",
              "    <tr>\n",
              "      <th>arstmade</th>\n",
              "      <th></th>\n",
              "      <th></th>\n",
              "    </tr>\n",
              "  </thead>\n",
              "  <tbody>\n",
              "    <tr>\n",
              "      <td>0</td>\n",
              "      <td>2039</td>\n",
              "      <td>2710</td>\n",
              "    </tr>\n",
              "    <tr>\n",
              "      <td>1</td>\n",
              "      <td>15</td>\n",
              "      <td>327</td>\n",
              "    </tr>\n",
              "  </tbody>\n",
              "</table>\n",
              "</div>"
            ],
            "text/plain": [
              "col_0        0     1\n",
              "arstmade            \n",
              "0         2039  2710\n",
              "1           15   327"
            ]
          },
          "metadata": {},
          "execution_count": 275
        }
      ],
      "metadata": {}
    },
    {
      "cell_type": "markdown",
      "source": [
        "### Arbol de decisiones"
      ],
      "metadata": {}
    },
    {
      "cell_type": "code",
      "execution_count": 276,
      "source": [
        "print(y_test)"
      ],
      "outputs": [
        {
          "output_type": "stream",
          "name": "stdout",
          "text": [
            "0       0\n",
            "1       0\n",
            "2       0\n",
            "3       0\n",
            "4       0\n",
            "       ..\n",
            "6007    0\n",
            "6008    0\n",
            "6009    0\n",
            "6011    0\n",
            "6012    0\n",
            "Name: arstmade, Length: 5091, dtype: category\n",
            "Categories (2, int64): [0, 1]\n"
          ]
        }
      ],
      "metadata": {}
    },
    {
      "cell_type": "code",
      "execution_count": 277,
      "source": [
        "param_grid = { 'criterion':['gini','entropy'],'max_depth': np.arange(2, 10)}   #Grilla de valores a probar\n",
        "\n",
        "model_2=DecisionTreeClassifier()\n",
        "\n",
        "nfolds=10\n",
        "dtree_gscv = GridSearchCV(model_2, param_grid, cv=nfolds)\n",
        "dtree_gscv.fit(X_train, y_train)\n",
        "dtree_gscv.best_params_\n",
        "\n"
      ],
      "outputs": [
        {
          "output_type": "execute_result",
          "data": {
            "text/plain": [
              "{'criterion': 'entropy', 'max_depth': 4}"
            ]
          },
          "metadata": {},
          "execution_count": 277
        }
      ],
      "metadata": {}
    },
    {
      "cell_type": "code",
      "execution_count": 278,
      "source": [
        "model = DecisionTreeClassifier(criterion = 'entropy', max_depth = 10).fit(X_train, y_train)\n",
        "dt_pred = model.predict(X_test)\n",
        "\n",
        "#repotes\n",
        "print(classification_report(y_test, dt_pred))\n",
        "pd.crosstab(y_test, dt_pred)\n"
      ],
      "outputs": [
        {
          "output_type": "stream",
          "name": "stdout",
          "text": [
            "              precision    recall  f1-score   support\n",
            "\n",
            "           0       0.97      0.99      0.98      4749\n",
            "           1       0.75      0.58      0.66       342\n",
            "\n",
            "    accuracy                           0.96      5091\n",
            "   macro avg       0.86      0.79      0.82      5091\n",
            "weighted avg       0.96      0.96      0.96      5091\n",
            "\n"
          ]
        },
        {
          "output_type": "execute_result",
          "data": {
            "text/html": [
              "<div>\n",
              "<style scoped>\n",
              "    .dataframe tbody tr th:only-of-type {\n",
              "        vertical-align: middle;\n",
              "    }\n",
              "\n",
              "    .dataframe tbody tr th {\n",
              "        vertical-align: top;\n",
              "    }\n",
              "\n",
              "    .dataframe thead th {\n",
              "        text-align: right;\n",
              "    }\n",
              "</style>\n",
              "<table border=\"1\" class=\"dataframe\">\n",
              "  <thead>\n",
              "    <tr style=\"text-align: right;\">\n",
              "      <th>col_0</th>\n",
              "      <th>0</th>\n",
              "      <th>1</th>\n",
              "    </tr>\n",
              "    <tr>\n",
              "      <th>arstmade</th>\n",
              "      <th></th>\n",
              "      <th></th>\n",
              "    </tr>\n",
              "  </thead>\n",
              "  <tbody>\n",
              "    <tr>\n",
              "      <td>0</td>\n",
              "      <td>4682</td>\n",
              "      <td>67</td>\n",
              "    </tr>\n",
              "    <tr>\n",
              "      <td>1</td>\n",
              "      <td>142</td>\n",
              "      <td>200</td>\n",
              "    </tr>\n",
              "  </tbody>\n",
              "</table>\n",
              "</div>"
            ],
            "text/plain": [
              "col_0        0    1\n",
              "arstmade           \n",
              "0         4682   67\n",
              "1          142  200"
            ]
          },
          "metadata": {},
          "execution_count": 278
        }
      ],
      "metadata": {}
    },
    {
      "cell_type": "markdown",
      "source": [
        "### Random forest"
      ],
      "metadata": {}
    },
    {
      "cell_type": "code",
      "execution_count": 279,
      "source": [
        "from sklearn.ensemble import RandomForestClassifier\n",
        "\n",
        "bosque = RandomForestClassifier(n_estimators=1000, criterion='entropy').fit(X_train, y_train)\n",
        "\n",
        "y_pred_bosque=bosque.predict(X_test)\n",
        "\n",
        "print(classification_report(y_test, y_pred_bosque))\n",
        "pd.crosstab(y_test, y_pred_bosque)\n",
        "print(bosque.score(X_test, y_test))"
      ],
      "outputs": [
        {
          "output_type": "stream",
          "name": "stdout",
          "text": [
            "              precision    recall  f1-score   support\n",
            "\n",
            "           0       0.96      0.99      0.98      4749\n",
            "           1       0.87      0.49      0.63       342\n",
            "\n",
            "    accuracy                           0.96      5091\n",
            "   macro avg       0.92      0.74      0.81      5091\n",
            "weighted avg       0.96      0.96      0.96      5091\n",
            "\n",
            "0.9611078373600471\n"
          ]
        }
      ],
      "metadata": {}
    },
    {
      "cell_type": "markdown",
      "source": [
        "# Bonus (0.5 pts)\n",
        "\n",
        "¿Que puede hacer para mejorar la predicción de los modelos?"
      ],
      "metadata": {
        "id": "ZCLeoXAXc9pB"
      }
    },
    {
      "cell_type": "code",
      "execution_count": 280,
      "source": [
        "+ Para mejorar el modelo de **SVM** ocupe validación cruzada para mejorar los hiperparametros. "
      ],
      "outputs": [
        {
          "output_type": "error",
          "ename": "SyntaxError",
          "evalue": "invalid syntax (<ipython-input-280-a734c4646a85>, line 1)",
          "traceback": [
            "\u001b[0;36m  File \u001b[0;32m\"<ipython-input-280-a734c4646a85>\"\u001b[0;36m, line \u001b[0;32m1\u001b[0m\n\u001b[0;31m    + Para mejorar el modelo de **SVM** ocupe validación cruzada para mejorar los hiperparametros.\u001b[0m\n\u001b[0m                 ^\u001b[0m\n\u001b[0;31mSyntaxError\u001b[0m\u001b[0;31m:\u001b[0m invalid syntax\n"
          ]
        }
      ],
      "metadata": {}
    }
  ]
}